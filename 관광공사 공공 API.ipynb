{
 "cells": [
  {
   "cell_type": "code",
   "execution_count": 1,
   "metadata": {},
   "outputs": [],
   "source": [
    "import requests\n",
    "import json\n",
    "import xmltodict"
   ]
  },
  {
   "cell_type": "markdown",
   "metadata": {},
   "source": [
    "###  디바이스 기준 좌표 1000m  이내에 있는 모든 타입의 관광 정보 "
   ]
  },
  {
   "cell_type": "code",
   "execution_count": 2,
   "metadata": {},
   "outputs": [],
   "source": [
    "tourAPI_key ='s8%2FOL9BcK3JUYuSOOnFxFN%2B342crXBDe08GV9iRCN536y1XDkmU4KKKNUaf79BbPODPv9Lj%2BRZ4IYu3ynJ4VWA%3D%3D'"
   ]
  },
  {
   "cell_type": "code",
   "execution_count": 3,
   "metadata": {},
   "outputs": [],
   "source": [
    "language = {\n",
    "    \"EngService\":\"EngService\",\n",
    "    \"JpnService\":\"JpnService\",\n",
    "    \"ChsService\":\"ChsService\",\n",
    "    \"ChtService\":\"ChtService\",\n",
    "    \"GerService\":\"GerService\",\n",
    "    \"FreService\":\"FreService\",\n",
    "    \"SpnService\":\"SpnService\",\n",
    "    \"RusService\":\"RusService\",\n",
    "}"
   ]
  },
  {
   "cell_type": "code",
   "execution_count": 4,
   "metadata": {},
   "outputs": [],
   "source": [
    "request_language = language['EngService']"
   ]
  },
  {
   "cell_type": "code",
   "execution_count": 5,
   "metadata": {},
   "outputs": [],
   "source": [
    "\n",
    "response = requests.get(f'http://api.visitkorea.or.kr/openapi/service/rest/{request_language}/locationBasedList?serviceKey={tourAPI_key}&numOfRows=10&pageSize=10&pageNo=1&startPage=1&MobileOS=ETC&MobileApp=AppTest&listYN=Y&arrange=A&mapX=126.981611&mapY=37.568477&radius=1000').content\n"
   ]
  },
  {
   "cell_type": "code",
   "execution_count": 6,
   "metadata": {},
   "outputs": [],
   "source": [
    "xmltodict = xmltodict.parse(response)\n",
    "\n",
    "json_data = json.dumps(xmltodict)\n",
    "\n",
    "dict_data = json.loads(json_data)\n",
    "\n",
    "first_request = dict_data['response']['body']['items']['item']"
   ]
  },
  {
   "cell_type": "code",
   "execution_count": 7,
   "metadata": {},
   "outputs": [
    {
     "data": {
      "text/plain": [
       "[{'addr1': '13th floor, 57, Myeongdong 2-gil, Jung-gu, Seoul',\n",
       "  'areacode': '1',\n",
       "  'cat1': 'B02',\n",
       "  'cat2': 'B0201',\n",
       "  'cat3': 'B02010900',\n",
       "  'contentid': '2542774',\n",
       "  'contenttypeid': '80',\n",
       "  'createdtime': '20180412102855',\n",
       "  'dist': '844',\n",
       "  'mapx': '126.9833929541',\n",
       "  'mapy': '37.5610049770',\n",
       "  'masterid': '2489973',\n",
       "  'mlevel': '6',\n",
       "  'modifiedtime': '20191205143402',\n",
       "  'readcount': '881',\n",
       "  'sigungucode': '24',\n",
       "  'tel': '+82-10-3262-3503',\n",
       "  'title': '57 Myeongdong Hostel [Korea Quality] / 57명동호스텔 [한국관광 품질인증]'},\n",
       " {'addr1': '20-1, Samil-daero 8-gil, Jung-gu, Seoul',\n",
       "  'areacode': '1',\n",
       "  'cat1': 'A02',\n",
       "  'cat2': 'A0203',\n",
       "  'cat3': 'A02030400',\n",
       "  'contentid': '2590011',\n",
       "  'contenttypeid': '76',\n",
       "  'createdtime': '20190211130745',\n",
       "  'dist': '991',\n",
       "  'firstimage': 'http://tong.visitkorea.or.kr/cms/resource/90/2589890_image2_1.bmp',\n",
       "  'firstimage2': 'http://tong.visitkorea.or.kr/cms/resource/90/2589890_image2_1.bmp',\n",
       "  'mapx': '126.9900922961',\n",
       "  'mapy': '37.5626715707',\n",
       "  'masterid': '2589895',\n",
       "  'mlevel': '6',\n",
       "  'modifiedtime': '20190211145913',\n",
       "  'readcount': '1371',\n",
       "  'sigungucode': '24',\n",
       "  'tel': '+82-10-8895-3368',\n",
       "  'title': 'A Moment in Time - Live Caricature & Gallery (시간을 담다)'},\n",
       " {'addr1': '30, Myeongdong 6-gil, Jung-gu, Seoul',\n",
       "  'areacode': '1',\n",
       "  'cat1': 'A04',\n",
       "  'cat2': 'A0401',\n",
       "  'cat3': 'A04010600',\n",
       "  'contentid': '988337',\n",
       "  'contenttypeid': '79',\n",
       "  'createdtime': '20100329163833',\n",
       "  'dist': '747',\n",
       "  'firstimage': 'http://tong.visitkorea.or.kr/cms/resource/09/1984409_image2_1.jpg',\n",
       "  'firstimage2': 'http://tong.visitkorea.or.kr/cms/resource/09/1984409_image3_1.jpg',\n",
       "  'mapx': '126.9842595111',\n",
       "  'mapy': '37.5620881999',\n",
       "  'masterid': '984625',\n",
       "  'mlevel': '6',\n",
       "  'modifiedtime': '20200511101345',\n",
       "  'readcount': '59061',\n",
       "  'sigungucode': '24',\n",
       "  'tel': '+82-2-1566-7477',\n",
       "  'title': 'A-land - Myeongdong Branch (에이랜드 (ÅLAND) 명동본점)'},\n",
       " {'addr1': '12, Insa-dong, Jongno-gu, Seoul-si',\n",
       "  'addr2': 'Inside the Deil Bldg. (B1-B2)',\n",
       "  'areacode': '1',\n",
       "  'cat1': 'A02',\n",
       "  'cat2': 'A0206',\n",
       "  'cat3': 'A02060100',\n",
       "  'contentid': '1945466',\n",
       "  'contenttypeid': '78',\n",
       "  'createdtime': '20140901102442',\n",
       "  'dist': '624',\n",
       "  'firstimage': 'http://tong.visitkorea.or.kr/cms/resource/44/1923144_image2_1.jpg',\n",
       "  'firstimage2': 'http://tong.visitkorea.or.kr/cms/resource/44/1923144_image2_1.jpg',\n",
       "  'mapx': '126.9872034096',\n",
       "  'mapy': '37.5718843365',\n",
       "  'masterid': '1904548',\n",
       "  'mlevel': '6',\n",
       "  'modifiedtime': '20191127111149',\n",
       "  'readcount': '53930',\n",
       "  'sigungucode': '23',\n",
       "  'title': 'Alive Museum (Insa-dong) (박물관은 살아있다 (인사동 본점))'},\n",
       " {'addr1': '19, Seosomun-ro 11-gil, Jung-gu, Seoul',\n",
       "  'areacode': '1',\n",
       "  'cat1': 'A02',\n",
       "  'cat2': 'A0206',\n",
       "  'cat3': 'A02060100',\n",
       "  'contentid': '1806820',\n",
       "  'contenttypeid': '78',\n",
       "  'createdtime': '20130423143020',\n",
       "  'dist': '981',\n",
       "  'firstimage': 'http://tong.visitkorea.or.kr/cms/resource/12/1894412_image2_1.jpg',\n",
       "  'firstimage2': 'http://tong.visitkorea.or.kr/cms/resource/12/1894412_image3_1.jpg',\n",
       "  'mapx': '126.9724494351',\n",
       "  'mapy': '37.5635461519',\n",
       "  'masterid': '1198901',\n",
       "  'mlevel': '6',\n",
       "  'modifiedtime': '20200611112146',\n",
       "  'readcount': '8708',\n",
       "  'sigungucode': '24',\n",
       "  'tel': '+82-2-319-5578',\n",
       "  'title': 'Appenzeller Noble Memorial Museum (배재학당 역사 박물관)'},\n",
       " {'addr1': '19-11, Insadong-gil, Jongno-gu, Seoul',\n",
       "  'addr2': '193-1',\n",
       "  'areacode': '1',\n",
       "  'cat1': 'A05',\n",
       "  'cat2': 'A0502',\n",
       "  'cat3': 'A05020900',\n",
       "  'contentid': '398476',\n",
       "  'contenttypeid': '82',\n",
       "  'createdtime': '20080111202115',\n",
       "  'dist': '573',\n",
       "  'firstimage': 'http://tong.visitkorea.or.kr/cms/resource/53/1292153_image2_1.jpg',\n",
       "  'firstimage2': 'http://tong.visitkorea.or.kr/cms/resource/53/1292153_image3_1.jpg',\n",
       "  'mapx': '126.9858590740',\n",
       "  'mapy': '37.5723648120',\n",
       "  'masterid': '398376',\n",
       "  'mlevel': '6',\n",
       "  'modifiedtime': '20190801150107',\n",
       "  'readcount': '4639',\n",
       "  'sigungucode': '23',\n",
       "  'tel': '+82-2-735-6678',\n",
       "  'title': 'Areumdaun Cha Bangmulgwan (Beautiful Tea Museum) (아름다운차박물관)'},\n",
       " {'addr1': '23, Namdaemun-ro 7-gil, Jung-gu, Seoul',\n",
       "  'addr2': '(Sogong-dong)',\n",
       "  'areacode': '1',\n",
       "  'cat1': 'A05',\n",
       "  'cat2': 'A0502',\n",
       "  'cat3': 'A05020100',\n",
       "  'contentid': '2438428',\n",
       "  'contenttypeid': '82',\n",
       "  'createdtime': '20161107151024',\n",
       "  'dist': '519',\n",
       "  'firstimage': 'http://tong.visitkorea.or.kr/cms/resource/33/2375033_image2_1.jpg',\n",
       "  'firstimage2': 'http://tong.visitkorea.or.kr/cms/resource/33/2375033_image2_1.jpg',\n",
       "  'mapx': '126.9805681297',\n",
       "  'mapy': '37.5638740373',\n",
       "  'masterid': '763989',\n",
       "  'mlevel': '6',\n",
       "  'modifiedtime': '20200601094049',\n",
       "  'readcount': '4446',\n",
       "  'sigungucode': '24',\n",
       "  'tel': '+82-2-752-1342',\n",
       "  'title': 'Arirang (아리랑)'},\n",
       " {'addr1': '17-1, Insadong-gil, Jongno-gu, Seoul',\n",
       "  'areacode': '1',\n",
       "  'cat1': 'A04',\n",
       "  'cat2': 'A0401',\n",
       "  'cat3': 'A04010800',\n",
       "  'contentid': '985465',\n",
       "  'contenttypeid': '79',\n",
       "  'createdtime': '20100325132055',\n",
       "  'dist': '608',\n",
       "  'firstimage': 'http://tong.visitkorea.or.kr/cms/resource/48/1011048_image2_1.jpg',\n",
       "  'firstimage2': 'http://tong.visitkorea.or.kr/cms/resource/48/1011048_image3_1.jpg',\n",
       "  'mapx': '126.9864034683',\n",
       "  'mapy': '37.5723925964',\n",
       "  'masterid': '969848',\n",
       "  'mlevel': '6',\n",
       "  'modifiedtime': '20200507095814',\n",
       "  'readcount': '14611',\n",
       "  'sigungucode': '23',\n",
       "  'tel': '+82-2-739-5700',\n",
       "  'title': 'Arirang Master Crafts Shop (아리랑명품관)'},\n",
       " {'addr1': '34-1, Myeongdong 8-gil, Jung-gu, Seoul',\n",
       "  'areacode': '1',\n",
       "  'cat1': 'A04',\n",
       "  'cat2': 'A0401',\n",
       "  'cat3': 'A04010600',\n",
       "  'contentid': '1034612',\n",
       "  'contenttypeid': '79',\n",
       "  'createdtime': '20100528180600',\n",
       "  'dist': '749',\n",
       "  'firstimage': 'http://tong.visitkorea.or.kr/cms/resource/14/1031514_image2_1.jpg',\n",
       "  'firstimage2': 'http://tong.visitkorea.or.kr/cms/resource/14/1031514_image3_1.jpg',\n",
       "  'mapx': '126.9846594718',\n",
       "  'mapy': '37.5621854186',\n",
       "  'masterid': '1030850',\n",
       "  'mlevel': '6',\n",
       "  'modifiedtime': '20200219152100',\n",
       "  'readcount': '110922',\n",
       "  'sigungucode': '24',\n",
       "  'tel': '+82-2-318-2784',\n",
       "  'title': 'Aritaum - Myeongdong Branch (아리따움 (명동중앙직영점))'},\n",
       " {'addr1': '68, Saemunan-ro, Jongno-gu, Seoul',\n",
       "  'areacode': '1',\n",
       "  'cat1': 'A02',\n",
       "  'cat2': 'A0207',\n",
       "  'cat3': 'A02070200',\n",
       "  'contentid': '1763414',\n",
       "  'contenttypeid': '85',\n",
       "  'createdtime': '20121207100921',\n",
       "  'dist': '849',\n",
       "  'mapx': '126.9721604004',\n",
       "  'mapy': '37.5696176634',\n",
       "  'masterid': '252710',\n",
       "  'mlevel': '6',\n",
       "  'modifiedtime': '20191106173102',\n",
       "  'readcount': '5261',\n",
       "  'sigungucode': '23',\n",
       "  'tel': '• 1330 Travel Hotline: +82-2-1330 <br> (Korean, English, Japanese, Chinese) <br> • For more info: +82-2-783-6518~9',\n",
       "  'title': 'Asiana International Short Film Festival (아시아나국제단편영화제)'}]"
      ]
     },
     "execution_count": 7,
     "metadata": {},
     "output_type": "execute_result"
    }
   ],
   "source": [
    "first_request"
   ]
  },
  {
   "cell_type": "code",
   "execution_count": 8,
   "metadata": {},
   "outputs": [],
   "source": [
    "second_request = []"
   ]
  },
  {
   "cell_type": "code",
   "execution_count": 27,
   "metadata": {},
   "outputs": [
    {
     "name": "stdout",
     "output_type": "stream",
     "text": [
      "<br /><a href=\"http://www.57hostel.com\" target=\"_blank\" title=\"새창 : 57명동호스텔 홈페이지로 이동\">http://www.57hostel.com</a>\n",
      "{'addr1': '13th floor, 57, Myeongdong 2-gil, Jung-gu, Seoul', 'areacode': '1', 'cat1': 'B02', 'cat2': 'B0201', 'cat3': 'B02010900', 'contentid': '2542774', 'contenttypeid': '80', 'createdtime': '20180412102855', 'dist': '844', 'mapx': '126.9833929541', 'mapy': '37.5610049770', 'masterid': '2489973', 'mlevel': '6', 'modifiedtime': '20191205143402', 'readcount': '881', 'sigungucode': '24', 'tel': '+82-10-3262-3503', 'title': '57 Myeongdong Hostel [Korea Quality] / 57명동호스텔 [한국관광 품질인증]', 'overview': '(Korea Quality Premier Class) The name ‘57 Myeongdong Hostel’ comes from its location ‘13F, Taepyeongyang Building, 57, Myeongdong 2-gil, Jung-gu, Seoul’. The hotel, which is 5 minute-walk from the airport limousine stop, and 3 minute-walk from Myeongdong Station, offers easy access to adjacent tourist destinations including the famous shopping neighborhood of Myeong-dong. The three-story hostel (from 11F to 13F) is composed of 42 guestrooms with 9 types - Single, Twin (Standard, Deluxe, and Economy), Double (Standard, Deluxe, and Economy), Triple, and Family. In particular, Single rooms (equipped with a bathroom) are popular among single travelers and businessmen. It also serves breakfast with diverse types of dishes free of charge, as well as coffee and tea in the communal rest space. Guests can also use the computer and printer in the business center. In addition, a mini washing machine is installed next to the walls, which can be used free of charge. The reception desk provides various information and reservation services for tourist attractions and cultural events. 57 Myeongdong Hostel charms a variety of guests from not only Asian countries but also European countries, the United States, and more.\\n<br>', 'homepage': '<br /><a href=\"http://www.57hostel.com\" target=\"_blank\" title=\"새창 : 57명동호스텔 홈페이지로 이동\">http://www.57hostel.com</a>'}\n",
      "\n",
      "반복문\n",
      "\n",
      "{'addr1': '20-1, Samil-daero 8-gil, Jung-gu, Seoul', 'areacode': '1', 'cat1': 'A02', 'cat2': 'A0203', 'cat3': 'A02030400', 'contentid': '2590011', 'contenttypeid': '76', 'createdtime': '20190211130745', 'dist': '991', 'firstimage': 'http://tong.visitkorea.or.kr/cms/resource/90/2589890_image2_1.bmp', 'firstimage2': 'http://tong.visitkorea.or.kr/cms/resource/90/2589890_image2_1.bmp', 'mapx': '126.9900922961', 'mapy': '37.5626715707', 'masterid': '2589895', 'mlevel': '6', 'modifiedtime': '20190211145913', 'readcount': '1371', 'sigungucode': '24', 'tel': '+82-10-8895-3368', 'title': 'A Moment in Time - Live Caricature & Gallery (시간을 담다)', 'overview': 'A Moment in Time adds in aspects of Korean traditions, customs, and landmarks like hanbok, Gwanghwamun Gate, and Korean mystical animals into caricature artworks, serving as an excellent souvenir for both locals and travelers. The gallery also offers hands-on programs like coloring caricature and traditional folk art. In addition, original design products from A Moment in Time are also available that suit as perfect gifts.', 'homepage': '<br /><a href=\"http://www.57hostel.com\" target=\"_blank\" title=\"새창 : 57명동호스텔 홈페이지로 이동\">http://www.57hostel.com</a>'}\n",
      "\n",
      "반복문\n",
      "\n",
      "<a href=\"http://www.a-land.co.kr\" target=\"_blank\" class=\"web\">www.a-land.co.kr</a> (Korean only)\n",
      "{'addr1': '30, Myeongdong 6-gil, Jung-gu, Seoul', 'areacode': '1', 'cat1': 'A04', 'cat2': 'A0401', 'cat3': 'A04010600', 'contentid': '988337', 'contenttypeid': '79', 'createdtime': '20100329163833', 'dist': '747', 'firstimage': 'http://tong.visitkorea.or.kr/cms/resource/09/1984409_image2_1.jpg', 'firstimage2': 'http://tong.visitkorea.or.kr/cms/resource/09/1984409_image3_1.jpg', 'mapx': '126.9842595111', 'mapy': '37.5620881999', 'masterid': '984625', 'mlevel': '6', 'modifiedtime': '20200511101345', 'readcount': '59061', 'sigungucode': '24', 'tel': '+82-2-1566-7477', 'title': 'A-land - Myeongdong Branch (에이랜드 (ÅLAND) 명동본점)', 'overview': 'A-LAND offers unique, creative products by young designers. Each of its floors consist of diverse products ranging from vintage style clothing to shoes, accessories, and everyday items. The fourth floor is notable for a wide variety of used products.', 'homepage': '<a href=\"http://www.a-land.co.kr\" target=\"_blank\" class=\"web\">www.a-land.co.kr</a> (Korean only)'}\n",
      "\n",
      "반복문\n",
      "\n",
      "<a href=\"http://www.alivemuseum.com\" target=\"_blank\">www.alivemuseum.com</a> (Korean only)\n",
      "{'addr1': '12, Insa-dong, Jongno-gu, Seoul-si', 'addr2': 'Inside the Deil Bldg. (B1-B2)', 'areacode': '1', 'cat1': 'A02', 'cat2': 'A0206', 'cat3': 'A02060100', 'contentid': '1945466', 'contenttypeid': '78', 'createdtime': '20140901102442', 'dist': '624', 'firstimage': 'http://tong.visitkorea.or.kr/cms/resource/44/1923144_image2_1.jpg', 'firstimage2': 'http://tong.visitkorea.or.kr/cms/resource/44/1923144_image2_1.jpg', 'mapx': '126.9872034096', 'mapy': '37.5718843365', 'masterid': '1904548', 'mlevel': '6', 'modifiedtime': '20191127111149', 'readcount': '53930', 'sigungucode': '23', 'title': 'Alive Museum (Insa-dong) (박물관은 살아있다 (인사동 본점))', 'overview': 'With an area \\nover 1,280㎡, Alive Museum is located in Insa-dong, a neighborhood known for its mixture \\nof historical and modern atmosphere. Exhibitions include optical illusion art, \\ndigital media, and more. More than 100 pieces are on display at the exhibition \\nhalls on basement levels 1 and 2. <br><br>Opened on March 6, 2014, Alive Museum \\ninfuses and modernizes the concept of art into something fun, engaging and highly \\neducational.<br>', 'homepage': '<a href=\"http://www.alivemuseum.com\" target=\"_blank\">www.alivemuseum.com</a> (Korean only)'}\n",
      "\n",
      "반복문\n",
      "\n",
      "<a href=\"http://appenzeller.pcu.ac.kr\" target=\"_blank\" class=\"web\">appenzeller.pcu.ac.kr</a> (Korean only)\n",
      "{'addr1': '19, Seosomun-ro 11-gil, Jung-gu, Seoul', 'areacode': '1', 'cat1': 'A02', 'cat2': 'A0206', 'cat3': 'A02060100', 'contentid': '1806820', 'contenttypeid': '78', 'createdtime': '20130423143020', 'dist': '981', 'firstimage': 'http://tong.visitkorea.or.kr/cms/resource/12/1894412_image2_1.jpg', 'firstimage2': 'http://tong.visitkorea.or.kr/cms/resource/12/1894412_image3_1.jpg', 'mapx': '126.9724494351', 'mapy': '37.5635461519', 'masterid': '1198901', 'mlevel': '6', 'modifiedtime': '20200611112146', 'readcount': '8708', 'sigungucode': '24', 'tel': '+82-2-319-5578', 'title': 'Appenzeller Noble Memorial Museum (배재학당 역사 박물관)', 'overview': 'The Appenzeller Noble Memorial Museum opened in 2008 in the East Hall of the Pai Chai Institute, a Western-style educational institution built in 1916. The museum building is designated Seoul Monument No. 16. With dynamically-arranged permanent exhibitions, annual special exhibitions and special lectures, the museum offers a unique learning experience to visitors and people with an interest in the history \\nof education in Korea.', 'homepage': '<a href=\"http://appenzeller.pcu.ac.kr\" target=\"_blank\" class=\"web\">appenzeller.pcu.ac.kr</a> (Korean only)'}\n",
      "\n",
      "반복문\n",
      "\n",
      "<a href=\"http://www.tmuseum.co.kr/\" target=\"_blank\" class=\"web\">tmuseum.co.kr </a> (Korean only)\n",
      "{'addr1': '19-11, Insadong-gil, Jongno-gu, Seoul', 'addr2': '193-1', 'areacode': '1', 'cat1': 'A05', 'cat2': 'A0502', 'cat3': 'A05020900', 'contentid': '398476', 'contenttypeid': '82', 'createdtime': '20080111202115', 'dist': '573', 'firstimage': 'http://tong.visitkorea.or.kr/cms/resource/53/1292153_image2_1.jpg', 'firstimage2': 'http://tong.visitkorea.or.kr/cms/resource/53/1292153_image3_1.jpg', 'mapx': '126.9858590740', 'mapy': '37.5723648120', 'masterid': '398376', 'mlevel': '6', 'modifiedtime': '20190801150107', 'readcount': '4639', 'sigungucode': '23', 'tel': '+82-2-735-6678', 'title': 'Areumdaun Cha Bangmulgwan (Beautiful Tea Museum) (아름다운차박물관)', 'overview': 'In addition to gourmet restaurants, traditional tea houses are a popular destination in Insa-dong. Among them, we recommend Areumdaun Cha Bangmulgwan, where you can taste more than 100 types of tea, including Korean, Chinese, Japanese, and Taiwanese. The shop also serves as a museum and gallery. Enjoy a leisurely cup of tea as you appreciate the art that is on display.', 'homepage': '<a href=\"http://www.tmuseum.co.kr/\" target=\"_blank\" class=\"web\">tmuseum.co.kr </a> (Korean only)'}\n",
      "\n",
      "반복문\n",
      "\n",
      "<a href=\"http://www.arirangcook.com\" target=\"_blank\" title=\"새창 : 아리랑 홈페이지로 이동\">www.arirangcook.com</a> (Korean only)\n",
      "{'addr1': '23, Namdaemun-ro 7-gil, Jung-gu, Seoul', 'addr2': '(Sogong-dong)', 'areacode': '1', 'cat1': 'A05', 'cat2': 'A0502', 'cat3': 'A05020100', 'contentid': '2438428', 'contenttypeid': '82', 'createdtime': '20161107151024', 'dist': '519', 'firstimage': 'http://tong.visitkorea.or.kr/cms/resource/33/2375033_image2_1.jpg', 'firstimage2': 'http://tong.visitkorea.or.kr/cms/resource/33/2375033_image2_1.jpg', 'mapx': '126.9805681297', 'mapy': '37.5638740373', 'masterid': '763989', 'mlevel': '6', 'modifiedtime': '20200601094049', 'readcount': '4446', 'sigungucode': '24', 'tel': '+82-2-752-1342', 'title': 'Arirang (아리랑)', 'overview': 'Arirang offers Korean cuisine with its articulate traditional interior and menus. Most menus are traditionally prepared, along with charcoal grill tables for visitors to cook their own meat. Menus consist of high-grade premium <em>hanu</em> (Korean beef) rib eye, charcoal grilled marinated beef ribs, hot-pot bibimbap, and more.', 'homepage': '<a href=\"http://www.arirangcook.com\" target=\"_blank\" title=\"새창 : 아리랑 홈페이지로 이동\">www.arirangcook.com</a> (Korean only)'}\n",
      "\n",
      "반복문\n",
      "\n"
     ]
    },
    {
     "name": "stdout",
     "output_type": "stream",
     "text": [
      "{'addr1': '17-1, Insadong-gil, Jongno-gu, Seoul', 'areacode': '1', 'cat1': 'A04', 'cat2': 'A0401', 'cat3': 'A04010800', 'contentid': '985465', 'contenttypeid': '79', 'createdtime': '20100325132055', 'dist': '608', 'firstimage': 'http://tong.visitkorea.or.kr/cms/resource/48/1011048_image2_1.jpg', 'firstimage2': 'http://tong.visitkorea.or.kr/cms/resource/48/1011048_image3_1.jpg', 'mapx': '126.9864034683', 'mapy': '37.5723925964', 'masterid': '969848', 'mlevel': '6', 'modifiedtime': '20200507095814', 'readcount': '14611', 'sigungucode': '23', 'tel': '+82-2-739-5700', 'title': 'Arirang Master Crafts Shop (아리랑명품관)', 'overview': 'Arirang Master Crafts Shop is a comprehensive shopping center dealing with traditional Korean crafts. It covers traditional crafts by famous artists, pottery for daily use, decorative pottery, lacquer ware inlaid with mother-of-pearl, crafts made of traditional Korean paper and more. Every product has a fixed price. In addtion, customers can enjoy diverse works displayed in the Migak Museum (Migak means delicate sculpture for eyes to see), located in the shop.', 'homepage': '<a href=\"http://www.arirangcook.com\" target=\"_blank\" title=\"새창 : 아리랑 홈페이지로 이동\">www.arirangcook.com</a> (Korean only)'}\n",
      "\n",
      "반복문\n",
      "\n",
      "<a href=\"http://www.aritaum.com\" target=\"_blank\">www.aritaum.com</a> (Korean only)\n",
      "{'addr1': '34-1, Myeongdong 8-gil, Jung-gu, Seoul', 'areacode': '1', 'cat1': 'A04', 'cat2': 'A0401', 'cat3': 'A04010600', 'contentid': '1034612', 'contenttypeid': '79', 'createdtime': '20100528180600', 'dist': '749', 'firstimage': 'http://tong.visitkorea.or.kr/cms/resource/14/1031514_image2_1.jpg', 'firstimage2': 'http://tong.visitkorea.or.kr/cms/resource/14/1031514_image3_1.jpg', 'mapx': '126.9846594718', 'mapy': '37.5621854186', 'masterid': '1030850', 'mlevel': '6', 'modifiedtime': '20200219152100', 'readcount': '110922', 'sigungucode': '24', 'tel': '+82-2-318-2784', 'title': 'Aritaum - Myeongdong Branch (아리따움 (명동중앙직영점))', 'overview': 'The Aritaum store in Myeong-dong offers an array of items of all different price ranges. Laneige and Iope brands are particularly popular among international visitors.', 'homepage': '<a href=\"http://www.aritaum.com\" target=\"_blank\">www.aritaum.com</a> (Korean only)'}\n",
      "\n",
      "반복문\n",
      "\n",
      "<a href=\"http://en.aisff.org\" target=\"_blank\" title=\"New window popup\" class=\"web\">www.aisff.org</a> (Korean, English)\n",
      "{'addr1': '68, Saemunan-ro, Jongno-gu, Seoul', 'areacode': '1', 'cat1': 'A02', 'cat2': 'A0207', 'cat3': 'A02070200', 'contentid': '1763414', 'contenttypeid': '85', 'createdtime': '20121207100921', 'dist': '849', 'mapx': '126.9721604004', 'mapy': '37.5696176634', 'masterid': '252710', 'mlevel': '6', 'modifiedtime': '20191106173102', 'readcount': '5261', 'sigungucode': '23', 'tel': '• 1330 Travel Hotline: +82-2-1330 <br> (Korean, English, Japanese, Chinese) <br> • For more info: +82-2-783-6518~9', 'title': 'Asiana International Short Film Festival (아시아나국제단편영화제)', 'overview': 'Asiana International Short Film Festival (AISFF) originated from \"In The Air\" film festival, with the aim to distribute short films. The AISFF faithfully works to strengthen the short film field, which is the developmental foundation of the film industry.', 'homepage': '<a href=\"http://en.aisff.org\" target=\"_blank\" title=\"New window popup\" class=\"web\">www.aisff.org</a> (Korean, English)'}\n",
      "\n",
      "반복문\n",
      "\n"
     ]
    }
   ],
   "source": [
    "for data in first_request:\n",
    "    import xmltodict\n",
    "    test_id = data['contentid']\n",
    "\n",
    "    response = requests.get(\n",
    "        f'http://api.visitkorea.or.kr/openapi/service/rest/{request_language}/detailCommon?serviceKey={tourAPI_key}'\n",
    "        f'&numOfRows=10&pageSize=10&pageNo=1&MobileOS=ETC&MobileApp=AppTest&contentId={test_id}'\n",
    "        f'&defaultYN=Y&addrinfoYN=Y&overviewYN=Y').content\n",
    "    xmltodict = xmltodict.parse(response)\n",
    "    json_data = json.dumps(xmltodict)\n",
    "    dict_data = json.loads(json_data)\n",
    "    overview_data = dict_data['response']['body']['items']['item']['overview']\n",
    "    if dict_data['response']['body']['items']['item'].get('homepage'):\n",
    "        homepage_data = dict_data['response']['body']['items']['item']['homepage']\n",
    "        print(homepage_data)\n",
    "        data['homepage'] = homepage_data\n",
    "\n",
    "    data['overview'] = overview_data\n",
    "\n",
    "    \n",
    "    print(data)\n",
    "\n",
    "    print('\\n반복문\\n')\n",
    "\n"
   ]
  },
  {
   "cell_type": "code",
   "execution_count": null,
   "metadata": {},
   "outputs": [],
   "source": [
    "first_request[4]"
   ]
  },
  {
   "cell_type": "code",
   "execution_count": null,
   "metadata": {},
   "outputs": [],
   "source": [
    "data = second_request[4]"
   ]
  },
  {
   "cell_type": "code",
   "execution_count": null,
   "metadata": {},
   "outputs": [],
   "source": [
    "data['response']['body']['items']['item']['overview']"
   ]
  },
  {
   "cell_type": "code",
   "execution_count": null,
   "metadata": {},
   "outputs": [],
   "source": []
  },
  {
   "cell_type": "code",
   "execution_count": null,
   "metadata": {},
   "outputs": [],
   "source": []
  },
  {
   "cell_type": "code",
   "execution_count": null,
   "metadata": {},
   "outputs": [],
   "source": []
  },
  {
   "cell_type": "code",
   "execution_count": null,
   "metadata": {},
   "outputs": [],
   "source": []
  },
  {
   "cell_type": "code",
   "execution_count": null,
   "metadata": {},
   "outputs": [],
   "source": []
  },
  {
   "cell_type": "code",
   "execution_count": null,
   "metadata": {},
   "outputs": [],
   "source": []
  },
  {
   "cell_type": "code",
   "execution_count": null,
   "metadata": {},
   "outputs": [],
   "source": []
  },
  {
   "cell_type": "code",
   "execution_count": null,
   "metadata": {},
   "outputs": [],
   "source": []
  },
  {
   "cell_type": "code",
   "execution_count": null,
   "metadata": {},
   "outputs": [],
   "source": []
  },
  {
   "cell_type": "code",
   "execution_count": null,
   "metadata": {},
   "outputs": [],
   "source": []
  },
  {
   "cell_type": "code",
   "execution_count": null,
   "metadata": {},
   "outputs": [],
   "source": []
  },
  {
   "cell_type": "code",
   "execution_count": null,
   "metadata": {},
   "outputs": [],
   "source": []
  },
  {
   "cell_type": "code",
   "execution_count": null,
   "metadata": {},
   "outputs": [],
   "source": []
  },
  {
   "cell_type": "code",
   "execution_count": null,
   "metadata": {},
   "outputs": [],
   "source": []
  },
  {
   "cell_type": "code",
   "execution_count": null,
   "metadata": {},
   "outputs": [],
   "source": []
  },
  {
   "cell_type": "code",
   "execution_count": null,
   "metadata": {},
   "outputs": [],
   "source": []
  },
  {
   "cell_type": "code",
   "execution_count": null,
   "metadata": {},
   "outputs": [],
   "source": []
  },
  {
   "cell_type": "code",
   "execution_count": null,
   "metadata": {},
   "outputs": [],
   "source": [
    "for x, y in zip(first_request, second_request):\n",
    "    print('\\n request \\n',x,'\\n', y,'\\n')"
   ]
  },
  {
   "cell_type": "code",
   "execution_count": null,
   "metadata": {},
   "outputs": [],
   "source": []
  },
  {
   "cell_type": "code",
   "execution_count": null,
   "metadata": {},
   "outputs": [],
   "source": []
  }
 ],
 "metadata": {
  "kernelspec": {
   "display_name": "Python 3",
   "language": "python",
   "name": "python3"
  },
  "language_info": {
   "codemirror_mode": {
    "name": "ipython",
    "version": 3
   },
   "file_extension": ".py",
   "mimetype": "text/x-python",
   "name": "python",
   "nbconvert_exporter": "python",
   "pygments_lexer": "ipython3",
   "version": "3.7.4"
  }
 },
 "nbformat": 4,
 "nbformat_minor": 4
}
