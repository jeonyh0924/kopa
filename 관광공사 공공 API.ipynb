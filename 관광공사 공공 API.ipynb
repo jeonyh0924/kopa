{
 "cells": [
  {
   "cell_type": "code",
   "execution_count": 62,
   "metadata": {},
   "outputs": [],
   "source": [
    "import requests\n",
    "\n",
    "import json\n",
    "\n",
    "import xmltodict"
   ]
  },
  {
   "cell_type": "markdown",
   "metadata": {},
   "source": [
    "###  디바이스 기준 좌표 1000m  이내에 있는 모든 타입의 관광 정보 "
   ]
  },
  {
   "cell_type": "code",
   "execution_count": 65,
   "metadata": {},
   "outputs": [],
   "source": [
    "ServiceKey ='s8%2FOL9BcK3JUYuSOOnFxFN%2B342crXBDe08GV9iRCN536y1XDkmU4KKKNUaf79BbPODPv9Lj%2BRZ4IYu3ynJ4VWA%3D%3D'"
   ]
  },
  {
   "cell_type": "code",
   "execution_count": 66,
   "metadata": {},
   "outputs": [],
   "source": [
    "language = {\n",
    "    \"EngService\":\"EngService\",\n",
    "    \"JpnService\":\"JpnService\",\n",
    "    \"ChsService\":\"ChsService\",\n",
    "    \"ChtService\":\"ChtService\",\n",
    "    \"GerService\":\"GerService\",\n",
    "    \"FreService\":\"FreService\",\n",
    "    \"SpnService\":\"SpnService\",\n",
    "    \"RusService\":\"RusService\",\n",
    "}"
   ]
  },
  {
   "cell_type": "code",
   "execution_count": 67,
   "metadata": {},
   "outputs": [],
   "source": [
    "request = 'ChtService'"
   ]
  },
  {
   "cell_type": "code",
   "execution_count": 68,
   "metadata": {},
   "outputs": [],
   "source": [
    "lang = language[request]"
   ]
  },
  {
   "cell_type": "code",
   "execution_count": 69,
   "metadata": {},
   "outputs": [],
   "source": [
    "response = requests.get(f'http://api.visitkorea.or.kr/openapi/service/rest/{lang}/locationBasedList?serviceKey={ServiceKey}&numOfRows=10&pageSize=10&pageNo=1&startPage=1&MobileOS=ETC&MobileApp=AppTest&listYN=Y&arrange=A&mapX=126.981611&mapY=37.568477&radius=1000').content"
   ]
  },
  {
   "cell_type": "code",
   "execution_count": 70,
   "metadata": {},
   "outputs": [],
   "source": [
    "xmltodict = xmltodict.parse(response)"
   ]
  },
  {
   "cell_type": "code",
   "execution_count": 71,
   "metadata": {},
   "outputs": [],
   "source": [
    "json_data = json.dumps(xmltodict)"
   ]
  },
  {
   "cell_type": "code",
   "execution_count": 72,
   "metadata": {},
   "outputs": [],
   "source": [
    "dict_data = json.loads(json_data)"
   ]
  },
  {
   "cell_type": "code",
   "execution_count": 73,
   "metadata": {},
   "outputs": [
    {
     "data": {
      "text/plain": [
       "{'response': {'header': {'resultCode': '0000', 'resultMsg': 'OK'},\n",
       "  'body': {'items': {'item': [{'addr1': '首爾特別市中區明洞6街30',\n",
       "      'addr2': '(明洞2街)',\n",
       "      'areacode': '1',\n",
       "      'cat1': 'A04',\n",
       "      'cat2': 'A0401',\n",
       "      'cat3': 'A04010600',\n",
       "      'contentid': '1029524',\n",
       "      'contenttypeid': '79',\n",
       "      'createdtime': '20100524151213',\n",
       "      'dist': '747',\n",
       "      'firstimage': 'http://tong.visitkorea.or.kr/cms/resource/09/1984409_image2_1.jpg',\n",
       "      'firstimage2': 'http://tong.visitkorea.or.kr/cms/resource/09/1984409_image3_1.jpg',\n",
       "      'mapx': '126.9842595111',\n",
       "      'mapy': '37.5620881999',\n",
       "      'masterid': '984625',\n",
       "      'mlevel': '6',\n",
       "      'modifiedtime': '20200511101345',\n",
       "      'readcount': '20162',\n",
       "      'sigungucode': '24',\n",
       "      'tel': '+82-2-1566-7477',\n",
       "      'title': 'ÅLAND明洞本店  (에이랜드 (ÅLAND) 명동본점)'},\n",
       "     {'addr1': '首爾中區明洞2街',\n",
       "      'addr2': '28',\n",
       "      'areacode': '1',\n",
       "      'cat1': 'A05',\n",
       "      'cat2': 'A0502',\n",
       "      'cat3': 'A05020900',\n",
       "      'contentid': '1278492',\n",
       "      'contenttypeid': '82',\n",
       "      'createdtime': '20110513160035',\n",
       "      'dist': '754',\n",
       "      'mapx': '126.9855788246',\n",
       "      'mapy': '37.5624659576',\n",
       "      'masterid': '836518',\n",
       "      'mlevel': '4',\n",
       "      'modifiedtime': '20110920160325',\n",
       "      'readcount': '2439',\n",
       "      'sigungucode': '24',\n",
       "      'tel': '+82-2-777-2301',\n",
       "      'title': '咖啡愛(커피애)'},\n",
       "     {'addr1': '首爾特別市中區小公路112',\n",
       "      'addr2': '(小公洞)',\n",
       "      'areacode': '1',\n",
       "      'cat1': 'A02',\n",
       "      'cat2': 'A0201',\n",
       "      'cat3': 'A02010700',\n",
       "      'contentid': '1913296',\n",
       "      'contenttypeid': '76',\n",
       "      'createdtime': '20140414112705',\n",
       "      'dist': '413',\n",
       "      'firstimage': 'http://tong.visitkorea.or.kr/cms/resource/66/1946566_image2_1.jpg',\n",
       "      'firstimage2': 'http://tong.visitkorea.or.kr/cms/resource/66/1946566_image3_1.jpg',\n",
       "      'mapx': '126.9794848592',\n",
       "      'mapy': '37.5651627568',\n",
       "      'masterid': '250299',\n",
       "      'mlevel': '6',\n",
       "      'modifiedtime': '20200506164128',\n",
       "      'readcount': '1637',\n",
       "      'sigungucode': '24',\n",
       "      'tel': '+82-2-3396-5842',\n",
       "      'title': '圜丘壇(환구단)'},\n",
       "     {'addr1': '首爾特別市鍾路區仁寺洞4街5-26',\n",
       "      'addr2': '(仁寺洞)',\n",
       "      'areacode': '1',\n",
       "      'cat1': 'A05',\n",
       "      'cat2': 'A0502',\n",
       "      'cat3': 'A05020100',\n",
       "      'contentid': '2000372',\n",
       "      'contenttypeid': '82',\n",
       "      'createdtime': '20150429103630',\n",
       "      'dist': '687',\n",
       "      'firstimage': 'http://tong.visitkorea.or.kr/cms/resource/83/399283_image2_1.jpg',\n",
       "      'firstimage2': 'http://tong.visitkorea.or.kr/cms/resource/83/399283_image3_1.jpg',\n",
       "      'mapx': '126.9866173149',\n",
       "      'mapy': '37.5732036171',\n",
       "      'masterid': '403021',\n",
       "      'mlevel': '6',\n",
       "      'modifiedtime': '20160802113637',\n",
       "      'readcount': '1631',\n",
       "      'sigungucode': '23',\n",
       "      'tel': '+82-2-739-5683',\n",
       "      'title': '檐廊(툇마루집)'},\n",
       "     {'addr1': '首爾特別市鍾路區鍾路1',\n",
       "      'addr2': '(鍾路1街)',\n",
       "      'areacode': '1',\n",
       "      'cat1': 'A02',\n",
       "      'cat2': 'A0206',\n",
       "      'cat3': 'A02061000',\n",
       "      'contentid': '333011',\n",
       "      'contenttypeid': '78',\n",
       "      'createdtime': '20030118173127',\n",
       "      'dist': '425',\n",
       "      'firstimage': 'http://tong.visitkorea.or.kr/cms/resource/98/572298_image2_1.jpg',\n",
       "      'firstimage2': 'http://tong.visitkorea.or.kr/cms/resource/98/572298_image3_1.jpg',\n",
       "      'mapx': '126.9779820539',\n",
       "      'mapy': '37.5709759433',\n",
       "      'masterid': '130285',\n",
       "      'mlevel': '6',\n",
       "      'modifiedtime': '20190321195445',\n",
       "      'readcount': '66038',\n",
       "      'sigungucode': '23',\n",
       "      'title': '教保文庫((주) 교보문고)'},\n",
       "     {'addr1': '首爾中區北倉洞',\n",
       "      'addr2': '60',\n",
       "      'areacode': '1',\n",
       "      'cat1': 'A05',\n",
       "      'cat2': 'A0502',\n",
       "      'cat3': 'A05020100',\n",
       "      'contentid': '732763',\n",
       "      'contenttypeid': '82',\n",
       "      'createdtime': '20090512101243',\n",
       "      'dist': '733',\n",
       "      'firstimage': 'http://tong.visitkorea.or.kr/cms/resource/24/728324_image2_1.jpg',\n",
       "      'firstimage2': 'http://tong.visitkorea.or.kr/cms/resource/24/728324_image3_1.jpg',\n",
       "      'mapx': '126.9774323363',\n",
       "      'mapy': '37.5627741091',\n",
       "      'masterid': '723968',\n",
       "      'mlevel': '6',\n",
       "      'modifiedtime': '20100407170739',\n",
       "      'readcount': '5245',\n",
       "      'sigungucode': '24',\n",
       "      'title': '魷魚中心(낙지센타)'},\n",
       "     {'addr1': '首爾特別市中區世宗大路11街35',\n",
       "      'addr2': '(西小門洞)',\n",
       "      'areacode': '1',\n",
       "      'cat1': 'A05',\n",
       "      'cat2': 'A0502',\n",
       "      'cat3': 'A05020100',\n",
       "      'contentid': '2025050',\n",
       "      'contenttypeid': '82',\n",
       "      'createdtime': '20150825150301',\n",
       "      'dist': '991',\n",
       "      'mapx': '126.9739382319',\n",
       "      'mapy': '37.5619935812',\n",
       "      'masterid': '232229',\n",
       "      'mlevel': '6',\n",
       "      'modifiedtime': '20200417102323',\n",
       "      'readcount': '2405',\n",
       "      'sigungucode': '24',\n",
       "      'tel': '+82-2-752-1945',\n",
       "      'title': '江西麵屋(강서면옥)'},\n",
       "     {'addr1': '首爾特別市鍾路區仁寺洞10街11-3',\n",
       "      'addr2': '(寬勳洞)',\n",
       "      'areacode': '1',\n",
       "      'cat1': 'A05',\n",
       "      'cat2': 'A0502',\n",
       "      'cat3': 'A05020100',\n",
       "      'contentid': '398627',\n",
       "      'contenttypeid': '82',\n",
       "      'createdtime': '20080111202524',\n",
       "      'dist': '720',\n",
       "      'firstimage': 'http://tong.visitkorea.or.kr/cms/resource/44/1885344_image2_1.jpg',\n",
       "      'firstimage2': 'http://tong.visitkorea.or.kr/cms/resource/44/1885344_image3_1.jpg',\n",
       "      'mapx': '126.9853535117',\n",
       "      'mapy': '37.5742312530',\n",
       "      'masterid': '398373',\n",
       "      'mlevel': '6',\n",
       "      'modifiedtime': '20181108150339',\n",
       "      'readcount': '6836',\n",
       "      'sigungucode': '23',\n",
       "      'tel': '+82-2-733-9240',\n",
       "      'title': '開城餃子「宮」(개성만두 궁)'},\n",
       "     {'addr1': '首爾市中區乙支路1街38',\n",
       "      'addr2': '(茶洞)',\n",
       "      'areacode': '1',\n",
       "      'cat1': 'A05',\n",
       "      'cat2': 'A0502',\n",
       "      'cat3': 'A05020100',\n",
       "      'contentid': '1284050',\n",
       "      'contenttypeid': '82',\n",
       "      'createdtime': '20110523100706',\n",
       "      'dist': '171',\n",
       "      'firstimage': 'http://tong.visitkorea.or.kr/cms/resource/44/399344_image2_1.jpg',\n",
       "      'firstimage2': 'http://tong.visitkorea.or.kr/cms/resource/44/399344_image3_1.jpg',\n",
       "      'mapx': '126.9798819707',\n",
       "      'mapy': '37.5677985691',\n",
       "      'masterid': '403044',\n",
       "      'mlevel': '6',\n",
       "      'modifiedtime': '20191127155914',\n",
       "      'readcount': '4425',\n",
       "      'sigungucode': '24',\n",
       "      'tel': '+82-2-777-3891',\n",
       "      'title': '乾明太魚湯之家(북어국집)'},\n",
       "     {'addr1': '首爾特別市鍾路區仁寺洞10街11-4',\n",
       "      'addr2': '(寬勳洞)',\n",
       "      'areacode': '1',\n",
       "      'cat1': 'A02',\n",
       "      'cat2': 'A0206',\n",
       "      'cat3': 'A02060500',\n",
       "      'contentid': '333012',\n",
       "      'contenttypeid': '78',\n",
       "      'createdtime': '20090724090621',\n",
       "      'dist': '769',\n",
       "      'firstimage': 'http://tong.visitkorea.or.kr/cms/resource/65/1568065_image2_1.jpg',\n",
       "      'firstimage2': 'http://tong.visitkorea.or.kr/cms/resource/65/1568065_image3_1.jpg',\n",
       "      'mapx': '126.9857145803',\n",
       "      'mapy': '37.5745839959',\n",
       "      'masterid': '130278',\n",
       "      'mlevel': '6',\n",
       "      'modifiedtime': '20190321195616',\n",
       "      'readcount': '15099',\n",
       "      'sigungucode': '23',\n",
       "      'title': '耕仁美術館(경인미술관)'}]},\n",
       "   'numOfRows': '10',\n",
       "   'pageNo': '1',\n",
       "   'totalCount': '248'}}}"
      ]
     },
     "execution_count": 73,
     "metadata": {},
     "output_type": "execute_result"
    }
   ],
   "source": [
    "dict_data"
   ]
  },
  {
   "cell_type": "code",
   "execution_count": null,
   "metadata": {},
   "outputs": [],
   "source": []
  },
  {
   "cell_type": "code",
   "execution_count": null,
   "metadata": {},
   "outputs": [],
   "source": []
  },
  {
   "cell_type": "code",
   "execution_count": 5,
   "metadata": {},
   "outputs": [],
   "source": [
    "test = f'http://api.visitkorea.or.kr/openapi/service/rest/EngService/areaCode?serviceKey={ServiceKey}&numOfRows=10&pageSize=10&pageNo=1&MobileOS=ETC&MobileApp=AppTest&areaCode=1'"
   ]
  },
  {
   "cell_type": "code",
   "execution_count": 6,
   "metadata": {},
   "outputs": [
    {
     "data": {
      "text/plain": [
       "'http://api.visitkorea.or.kr/openapi/service/rest/EngService/areaCode?serviceKey=s8%2FOL9BcK3JUYuSOOnFxFN%2B342crXBDe08GV9iRCN536y1XDkmU4KKKNUaf79BbPODPv9Lj%2BRZ4IYu3ynJ4VWA%3D%3D&numOfRows=10&pageSize=10&pageNo=1&MobileOS=ETC&MobileApp=AppTest&areaCode=1'"
      ]
     },
     "execution_count": 6,
     "metadata": {},
     "output_type": "execute_result"
    }
   ],
   "source": [
    "test"
   ]
  },
  {
   "cell_type": "code",
   "execution_count": 7,
   "metadata": {},
   "outputs": [],
   "source": [
    "response = requests.get(test).content"
   ]
  },
  {
   "cell_type": "code",
   "execution_count": 8,
   "metadata": {},
   "outputs": [
    {
     "data": {
      "text/plain": [
       "b'<?xml version=\"1.0\" encoding=\"UTF-8\" standalone=\"yes\"?><response><header><resultCode>0000</resultCode><resultMsg>OK</resultMsg></header><body><items><item><code>1</code><name>Gangnam-gu</name><rnum>1</rnum></item><item><code>2</code><name>Gangdong-gu</name><rnum>2</rnum></item><item><code>3</code><name>Gangbuk-gu</name><rnum>3</rnum></item><item><code>4</code><name>Gangseo-gu</name><rnum>4</rnum></item><item><code>5</code><name>Gwanak-gu</name><rnum>5</rnum></item><item><code>6</code><name>Gwangjin-gu</name><rnum>6</rnum></item><item><code>7</code><name>Guro-gu</name><rnum>7</rnum></item><item><code>8</code><name>Geumcheon-gu</name><rnum>8</rnum></item><item><code>9</code><name>Nowon-gu</name><rnum>9</rnum></item><item><code>10</code><name>Dobong-gu</name><rnum>10</rnum></item></items><numOfRows>10</numOfRows><pageNo>1</pageNo><totalCount>25</totalCount></body></response>'"
      ]
     },
     "execution_count": 8,
     "metadata": {},
     "output_type": "execute_result"
    }
   ],
   "source": [
    "response"
   ]
  },
  {
   "cell_type": "code",
   "execution_count": 9,
   "metadata": {},
   "outputs": [],
   "source": [
    "xmlobj = xmltodict.parse(response)"
   ]
  },
  {
   "cell_type": "code",
   "execution_count": 10,
   "metadata": {},
   "outputs": [],
   "source": [
    "jsondata = json.dumps(xmlobj, ensure_ascii=False)"
   ]
  },
  {
   "cell_type": "code",
   "execution_count": 11,
   "metadata": {},
   "outputs": [],
   "source": [
    "dict_data = json.loads(jsondata)"
   ]
  },
  {
   "cell_type": "code",
   "execution_count": 12,
   "metadata": {},
   "outputs": [
    {
     "data": {
      "text/plain": [
       "{'response': {'header': {'resultCode': '0000', 'resultMsg': 'OK'},\n",
       "  'body': {'items': {'item': [{'code': '1', 'name': 'Gangnam-gu', 'rnum': '1'},\n",
       "     {'code': '2', 'name': 'Gangdong-gu', 'rnum': '2'},\n",
       "     {'code': '3', 'name': 'Gangbuk-gu', 'rnum': '3'},\n",
       "     {'code': '4', 'name': 'Gangseo-gu', 'rnum': '4'},\n",
       "     {'code': '5', 'name': 'Gwanak-gu', 'rnum': '5'},\n",
       "     {'code': '6', 'name': 'Gwangjin-gu', 'rnum': '6'},\n",
       "     {'code': '7', 'name': 'Guro-gu', 'rnum': '7'},\n",
       "     {'code': '8', 'name': 'Geumcheon-gu', 'rnum': '8'},\n",
       "     {'code': '9', 'name': 'Nowon-gu', 'rnum': '9'},\n",
       "     {'code': '10', 'name': 'Dobong-gu', 'rnum': '10'}]},\n",
       "   'numOfRows': '10',\n",
       "   'pageNo': '1',\n",
       "   'totalCount': '25'}}}"
      ]
     },
     "execution_count": 12,
     "metadata": {},
     "output_type": "execute_result"
    }
   ],
   "source": [
    "dict_data"
   ]
  },
  {
   "cell_type": "markdown",
   "metadata": {},
   "source": [
    "### 테스트 2"
   ]
  },
  {
   "cell_type": "code",
   "execution_count": 13,
   "metadata": {},
   "outputs": [],
   "source": [
    "test_url2 = f'http://api.visitkorea.or.kr/openapi/service/rest/EngService/detailIntro?serviceKey={ServiceKey}&numOfRows=10&pageSize=10&pageNo=1&MobileOS=ETC&MobileApp=AppTest&contentId=621155&contentTypeId=78&introYN=Y'"
   ]
  },
  {
   "cell_type": "code",
   "execution_count": 14,
   "metadata": {},
   "outputs": [],
   "source": [
    "response2 = requests.get(test_url2).content"
   ]
  },
  {
   "cell_type": "code",
   "execution_count": 15,
   "metadata": {},
   "outputs": [],
   "source": [
    "xmlobj = xmltodict.parse(response2)"
   ]
  },
  {
   "cell_type": "code",
   "execution_count": 16,
   "metadata": {},
   "outputs": [],
   "source": [
    "json_data = json.dumps(xmlobj, ensure_ascii=False)"
   ]
  },
  {
   "cell_type": "code",
   "execution_count": 17,
   "metadata": {},
   "outputs": [],
   "source": [
    "dict_data = json.loads(json_data)"
   ]
  },
  {
   "cell_type": "code",
   "execution_count": 18,
   "metadata": {},
   "outputs": [
    {
     "data": {
      "text/plain": [
       "{'response': {'header': {'resultCode': '0000', 'resultMsg': 'OK'},\n",
       "  'body': {'items': {'item': {'contentid': '621155',\n",
       "     'contenttypeid': '78',\n",
       "     'infocenterculture': '• 1330 Travel Hotline: +82-2-1330 <br> (Korean, English, Japanese, Chinese) <br> • For more info: +82-2-780-6382',\n",
       "     'parkingculture': 'Available',\n",
       "     'parkingfee': 'Free parking for 1 hour 30 minutes.<br>\\n* 1,000 won charged for every 15 minutes exceeded.',\n",
       "     'restdateculture': 'During exhibition changing and set-up (* Refer to the official website for more details)',\n",
       "     'usefee': '[63 Sky Art]<br>\\nIndividuals - Adults 20,000 won / Teenagers 18,000 won / Children 16,000 won <br>\\nGroups - Adults 10,000 won /&nbsp; Children 8,000 won <br>\\n<br>\\n* Groups: 20 people or more<br>\\n* Adults (ages 19 & older) / Teenagers (ages 13-18) / Children (ages 3-12)',\n",
       "     'usetimeculture': '10:00-22:00 <br>* Last admission 30 min before closing'}},\n",
       "   'numOfRows': '10',\n",
       "   'pageNo': '1',\n",
       "   'totalCount': '1'}}}"
      ]
     },
     "execution_count": 18,
     "metadata": {},
     "output_type": "execute_result"
    }
   ],
   "source": [
    "dict_data"
   ]
  },
  {
   "attachments": {
    "image.png": {
     "image/png": "[encoded data removed]"
    }
   },
   "cell_type": "markdown",
   "metadata": {},
   "source": [
    "#### 테스트 3 - 컨텐츠ID가 “2507421”인 관광정보의 이미지를 조회![image.png](attachment:image.png)"
   ]
  },
  {
   "cell_type": "code",
   "execution_count": 19,
   "metadata": {},
   "outputs": [],
   "source": [
    "test_url3 = f'http://api.visitkorea.or.kr/openapi/service/rest/EngService/detailImage?serviceKey={ServiceKey}&numOfRows=10&pageSize=10&pageNo=1&MobileOS=ETC&MobileApp=AppTest&contentId=2507421&imageYN=Y'"
   ]
  },
  {
   "cell_type": "code",
   "execution_count": 20,
   "metadata": {},
   "outputs": [],
   "source": [
    "response3 = requests.get(test_url3).content"
   ]
  },
  {
   "cell_type": "code",
   "execution_count": 21,
   "metadata": {},
   "outputs": [],
   "source": [
    "xmlobj = xmltodict.parse(response3)"
   ]
  },
  {
   "cell_type": "code",
   "execution_count": 22,
   "metadata": {},
   "outputs": [],
   "source": [
    "json_data = json.dumps(xmlobj, ensure_ascii=False)"
   ]
  },
  {
   "cell_type": "code",
   "execution_count": 23,
   "metadata": {},
   "outputs": [],
   "source": [
    "dict_data = json.loads(json_data)"
   ]
  },
  {
   "cell_type": "code",
   "execution_count": 24,
   "metadata": {},
   "outputs": [
    {
     "data": {
      "text/plain": [
       "{'response': {'header': {'resultCode': '0000', 'resultMsg': 'OK'},\n",
       "  'body': {'items': {'item': [{'contentid': '2507421',\n",
       "      'originimgurl': 'http://tong.visitkorea.or.kr/cms/resource/10/1162110_image2_1.jpg',\n",
       "      'serialnum': '1162110_8',\n",
       "      'smallimageurl': 'http://tong.visitkorea.or.kr/cms/resource/10/1162110_image3_1.jpg'},\n",
       "     {'contentid': '2507421',\n",
       "      'originimgurl': 'http://tong.visitkorea.or.kr/cms/resource/12/1162112_image2_1.jpg',\n",
       "      'serialnum': '1162112_9',\n",
       "      'smallimageurl': 'http://tong.visitkorea.or.kr/cms/resource/12/1162112_image3_1.jpg'},\n",
       "     {'contentid': '2507421',\n",
       "      'originimgurl': 'http://tong.visitkorea.or.kr/cms/resource/16/1162116_image2_1.jpg',\n",
       "      'serialnum': '1162116_5',\n",
       "      'smallimageurl': 'http://tong.visitkorea.or.kr/cms/resource/16/1162116_image3_1.jpg'},\n",
       "     {'contentid': '2507421',\n",
       "      'originimgurl': 'http://tong.visitkorea.or.kr/cms/resource/78/1864878_image2_1.jpg',\n",
       "      'serialnum': '1864878_1',\n",
       "      'smallimageurl': 'http://tong.visitkorea.or.kr/cms/resource/78/1864878_image3_1.jpg'},\n",
       "     {'contentid': '2507421',\n",
       "      'originimgurl': 'http://tong.visitkorea.or.kr/cms/resource/51/1864951_image2_1.jpg',\n",
       "      'serialnum': '1864951_2',\n",
       "      'smallimageurl': 'http://tong.visitkorea.or.kr/cms/resource/51/1864951_image3_1.jpg'},\n",
       "     {'contentid': '2507421',\n",
       "      'originimgurl': 'http://tong.visitkorea.or.kr/cms/resource/62/1864962_image2_1.jpg',\n",
       "      'serialnum': '1864962_3',\n",
       "      'smallimageurl': 'http://tong.visitkorea.or.kr/cms/resource/62/1864962_image3_1.jpg'},\n",
       "     {'contentid': '2507421',\n",
       "      'originimgurl': 'http://tong.visitkorea.or.kr/cms/resource/64/1864964_image2_1.jpg',\n",
       "      'serialnum': '1864964_4',\n",
       "      'smallimageurl': 'http://tong.visitkorea.or.kr/cms/resource/64/1864964_image3_1.jpg'},\n",
       "     {'contentid': '2507421',\n",
       "      'originimgurl': 'http://tong.visitkorea.or.kr/cms/resource/79/2535579_image2_1.jpg',\n",
       "      'serialnum': '2535579_14',\n",
       "      'smallimageurl': 'http://tong.visitkorea.or.kr/cms/resource/79/2535579_image3_1.jpg'},\n",
       "     {'contentid': '2507421',\n",
       "      'originimgurl': 'http://tong.visitkorea.or.kr/cms/resource/80/2535580_image2_1.jpg',\n",
       "      'serialnum': '2535580_13',\n",
       "      'smallimageurl': 'http://tong.visitkorea.or.kr/cms/resource/80/2535580_image3_1.jpg'},\n",
       "     {'contentid': '2507421',\n",
       "      'originimgurl': 'http://tong.visitkorea.or.kr/cms/resource/81/2535581_image2_1.jpg',\n",
       "      'serialnum': '2535581_12',\n",
       "      'smallimageurl': 'http://tong.visitkorea.or.kr/cms/resource/81/2535581_image3_1.jpg'}]},\n",
       "   'numOfRows': '10',\n",
       "   'pageNo': '1',\n",
       "   'totalCount': '13'}}}"
      ]
     },
     "execution_count": 24,
     "metadata": {},
     "output_type": "execute_result"
    }
   ],
   "source": [
    "dict_data"
   ]
  },
  {
   "cell_type": "markdown",
   "metadata": {},
   "source": [
    "#### JP  서비스 \n"
   ]
  },
  {
   "cell_type": "code",
   "execution_count": 25,
   "metadata": {},
   "outputs": [],
   "source": [
    "jpService = 's8%2FOL9BcK3JUYuSOOnFxFN%2B342crXBDe08GV9iRCN536y1XDkmU4KKKNUaf79BbPODPv9Lj%2BRZ4IYu3ynJ4VWA%3D%3D'"
   ]
  },
  {
   "cell_type": "code",
   "execution_count": 26,
   "metadata": {},
   "outputs": [],
   "source": [
    "jp_test_url = f'http://api.visitkorea.or.kr/openapi/service/rest/JpnService/detailImage?serviceKey={jpService}&numOfRows=10&pageSize=10&pageNo=1&MobileOS=ETC&MobileApp=AppTest&contentId=2507421&imageYN=Y'"
   ]
  },
  {
   "cell_type": "code",
   "execution_count": 27,
   "metadata": {},
   "outputs": [],
   "source": [
    "response = requests.get(jp_test_url).content"
   ]
  },
  {
   "cell_type": "code",
   "execution_count": 28,
   "metadata": {},
   "outputs": [
    {
     "data": {
      "text/plain": [
       "b'<?xml version=\"1.0\" encoding=\"UTF-8\" standalone=\"yes\"?><response><header><resultCode>0000</resultCode><resultMsg>OK</resultMsg></header><body><items/><numOfRows>10</numOfRows><pageNo>1</pageNo><totalCount>0</totalCount></body></response>'"
      ]
     },
     "execution_count": 28,
     "metadata": {},
     "output_type": "execute_result"
    }
   ],
   "source": [
    "response"
   ]
  },
  {
   "cell_type": "code",
   "execution_count": 29,
   "metadata": {},
   "outputs": [],
   "source": [
    "xmltodict = xmltodict.parse(response)"
   ]
  },
  {
   "cell_type": "code",
   "execution_count": 30,
   "metadata": {},
   "outputs": [],
   "source": [
    "json_data = json.dumps(xmltodict, ensure_ascii=False)"
   ]
  },
  {
   "cell_type": "code",
   "execution_count": 31,
   "metadata": {},
   "outputs": [],
   "source": [
    "dict_data = json.loads(json_data)"
   ]
  },
  {
   "cell_type": "code",
   "execution_count": 32,
   "metadata": {},
   "outputs": [
    {
     "data": {
      "text/plain": [
       "{'response': {'header': {'resultCode': '0000', 'resultMsg': 'OK'},\n",
       "  'body': {'items': None,\n",
       "   'numOfRows': '10',\n",
       "   'pageNo': '1',\n",
       "   'totalCount': '0'}}}"
      ]
     },
     "execution_count": 32,
     "metadata": {},
     "output_type": "execute_result"
    }
   ],
   "source": [
    "dict_data"
   ]
  },
  {
   "cell_type": "code",
   "execution_count": 40,
   "metadata": {},
   "outputs": [],
   "source": [
    "import xmltodict"
   ]
  },
  {
   "cell_type": "code",
   "execution_count": 41,
   "metadata": {},
   "outputs": [],
   "source": [
    "jp_test_url =f'http://api.visitkorea.or.kr/openapi/service/rest/SpnService/areaBasedList?serviceKey={jpService}&numOfRows=10&pageSize=10&pageNo=1&MobileOS=ETC&MobileApp=AppTest&listYN=Y&arrange=A&areaCode=35'"
   ]
  },
  {
   "cell_type": "code",
   "execution_count": 42,
   "metadata": {},
   "outputs": [],
   "source": [
    "response = requests.get(jp_test_url).content"
   ]
  },
  {
   "cell_type": "code",
   "execution_count": 43,
   "metadata": {},
   "outputs": [],
   "source": [
    "xmltodict = xmltodict.parse(response)"
   ]
  },
  {
   "cell_type": "code",
   "execution_count": 44,
   "metadata": {},
   "outputs": [],
   "source": [
    "json_data = json.dumps(xmltodict)"
   ]
  },
  {
   "cell_type": "code",
   "execution_count": 45,
   "metadata": {},
   "outputs": [],
   "source": [
    "dict_data = json.loads(json_data)"
   ]
  },
  {
   "cell_type": "code",
   "execution_count": 46,
   "metadata": {},
   "outputs": [
    {
     "data": {
      "text/plain": [
       "{'response': {'header': {'responseTime': '2020-06-18T23:05:46.621+09:00',\n",
       "   'resultCode': '20',\n",
       "   'resultMsg': 'SERVICE ACCESS DENIED ERROR.'}}}"
      ]
     },
     "execution_count": 46,
     "metadata": {},
     "output_type": "execute_result"
    }
   ],
   "source": [
    "dict_data"
   ]
  },
  {
   "cell_type": "code",
   "execution_count": null,
   "metadata": {},
   "outputs": [],
   "source": []
  },
  {
   "cell_type": "code",
   "execution_count": null,
   "metadata": {},
   "outputs": [],
   "source": []
  },
  {
   "cell_type": "code",
   "execution_count": null,
   "metadata": {},
   "outputs": [],
   "source": []
  },
  {
   "cell_type": "code",
   "execution_count": null,
   "metadata": {},
   "outputs": [],
   "source": []
  }
 ],
 "metadata": {
  "kernelspec": {
   "display_name": "Python 3",
   "language": "python",
   "name": "python3"
  },
  "language_info": {
   "codemirror_mode": {
    "name": "ipython",
    "version": 3
   },
   "file_extension": ".py",
   "mimetype": "text/x-python",
   "name": "python",
   "nbconvert_exporter": "python",
   "pygments_lexer": "ipython3",
   "version": "3.7.4"
  }
 },
 "nbformat": 4,
 "nbformat_minor": 4
}
