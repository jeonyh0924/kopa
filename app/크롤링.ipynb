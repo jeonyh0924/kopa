{
 "cells": [
  {
   "cell_type": "code",
   "execution_count": 45,
   "metadata": {},
   "outputs": [],
   "source": [
    "import requests\n",
    "from selenium import webdriver\n",
    "from selenium.webdriver.common.by import By\n",
    "from selenium.webdriver.support.ui import WebDriverWait\n",
    "from selenium.webdriver.support import expected_conditions as EC"
   ]
  },
  {
   "cell_type": "code",
   "execution_count": 57,
   "metadata": {
    "scrolled": true
   },
   "outputs": [
    {
     "name": "stderr",
     "output_type": "stream",
     "text": [
      "/home/kimdooh/.pyenv/versions/kopa-tour-env/lib/python3.7/site-packages/ipykernel_launcher.py:7: DeprecationWarning: use options instead of chrome_options\n",
      "  import sys\n"
     ]
    },
    {
     "data": {
      "text/plain": [
       "<selenium.webdriver.remote.webelement.WebElement (session=\"b88c0a730f4a6c561c94fdd5e1fd49fd\", element=\"3ffa9e39-0bfe-440a-afa8-a59e2684ca58\")>"
      ]
     },
     "execution_count": 57,
     "metadata": {},
     "output_type": "execute_result"
    }
   ],
   "source": [
    "options = webdriver.ChromeOptions()\n",
    "options.add_argument('headless')\n",
    "options.add_argument('window-size=1920x1080')\n",
    "options.add_argument(\"disable-gpu\")\n",
    "# 혹은 options.add_argument(\"--disable-gpu\")\n",
    "\n",
    "driver = webdriver.chrome.webdriver.WebDriver(executable_path='../chromedriver', chrome_options=options)\n",
    "driver.get(\"https://korean.visitseoul.net/hallyu?srchType=&srchOptnCode=&srchCtgry=32&sortOrder=&srchWord=\")\n",
    "wait = WebDriverWait(driver, 10)\n",
    "wait.until(EC.visibility_of_element_located((By.CSS_SELECTOR, 'ul')))     \n",
    "# CSS_SELECTOR의 h1이 페이지에 표시될 때 까지 wait에서 설정한 시간만큼 기다리기\n"
   ]
  },
  {
   "cell_type": "code",
   "execution_count": null,
   "metadata": {
    "scrolled": false
   },
   "outputs": [],
   "source": []
  },
  {
   "cell_type": "code",
   "execution_count": 72,
   "metadata": {},
   "outputs": [],
   "source": [
    "search = driver.find_elements_by_xpath('//*[@id=\"postSearchFrm\"]/section[1]/div[3]/ul/li[3]/a')\n"
   ]
  },
  {
   "cell_type": "code",
   "execution_count": 73,
   "metadata": {},
   "outputs": [
    {
     "data": {
      "text/plain": [
       "[<selenium.webdriver.remote.webelement.WebElement (session=\"b88c0a730f4a6c561c94fdd5e1fd49fd\", element=\"a176c5ea-90a5-4a40-9876-c1883b2ba794\")>]"
      ]
     },
     "execution_count": 73,
     "metadata": {},
     "output_type": "execute_result"
    }
   ],
   "source": [
    "search"
   ]
  },
  {
   "cell_type": "code",
   "execution_count": 74,
   "metadata": {},
   "outputs": [],
   "source": [
    "kpop_url_list = dict()"
   ]
  },
  {
   "cell_type": "code",
   "execution_count": 165,
   "metadata": {
    "scrolled": true
   },
   "outputs": [
    {
     "name": "stderr",
     "output_type": "stream",
     "text": [
      "/home/kimdooh/.pyenv/versions/kopa-tour-env/lib/python3.7/site-packages/ipykernel_launcher.py:7: DeprecationWarning: use options instead of chrome_options\n",
      "  import sys\n"
     ]
    },
    {
     "name": "stdout",
     "output_type": "stream",
     "text": [
      "반려견과 함께하는 서울 명소\n",
      "https://korean.visitseoul.net/hallyu/%ED%95%A8%EA%BB%98-%EC%82%AC%EB%8A%94-%EB%8F%84%EC%8B%9C-%EC%84%9C%EC%9A%B8_/28765\n",
      "background-image: url(\"/comm/getImage?srvcId=POST&parentSn=28765&fileTy=POSTTHUMB&fileNo=3&thumbTy=M\");\n",
      "서울의 무인서비스\n",
      "https://korean.visitseoul.net/hallyu/%EB%AC%B4%EC%9D%B8-in-%EC%84%9C%EC%9A%B8_/28757\n",
      "background-image: url(\"/comm/getImage?srvcId=POST&parentSn=28757&fileTy=POSTTHUMB&fileNo=2&thumbTy=M\");\n",
      "옛가게길: 한국과 세계가 함께 숨 쉬는 곳\n",
      "https://korean.visitseoul.net/hallyu/%EC%98%9B%EA%B0%80%EA%B2%8C%EA%B8%B8-%ED%95%9C%EA%B5%AD%EA%B3%BC-%EC%84%B8%EA%B3%84%EA%B0%80-%ED%95%A8%EA%BB%98-%EC%88%A8-%EC%89%AC%EB%8A%94-%EA%B3%B3_/28661\n",
      "background-image: url(\"/comm/getImage?srvcId=POST&parentSn=28661&fileTy=POSTTHUMB&fileNo=3&thumbTy=M\");\n",
      "알아두면 쓸모 있는 서울 이색박물관\n",
      "https://korean.visitseoul.net/hallyu/%EC%95%8C%EC%95%84%EB%91%90%EB%A9%B4-%EC%93%B8%EB%AA%A8-%EC%9E%88%EB%8A%94-%EC%84%9C%EC%9A%B8-%EC%9D%B4%EC%83%89%EB%B0%95%EB%AC%BC%EA%B4%80_/28607\n",
      "background-image: url(\"/comm/getImage?srvcId=POST&parentSn=28607&fileTy=POSTTHUMB&fileNo=3&thumbTy=M\");\n",
      "마음이 내키는 대로 즐기는 서울의 희로애락 길\n",
      "https://korean.visitseoul.net/hallyu/%EB%A7%88%EC%9D%8C%EC%9D%B4-%EB%82%B4%ED%82%A4%EB%8A%94-%EB%8C%80%EB%A1%9C-%EC%A6%90%EA%B8%B0%EB%8A%94-%EC%84%9C%EC%9A%B8%EC%9D%98-%ED%9D%AC%EB%A1%9C%EC%95%A0%EB%9D%BD-%EA%B8%B8_/28528\n",
      "background-image: url(\"/comm/getImage?srvcId=POST&parentSn=28528&fileTy=POSTTHUMB&fileNo=1&thumbTy=M\");\n",
      "서울의 캠퍼스 굿즈\n",
      "https://korean.visitseoul.net/hallyu/%EC%84%9C%EC%9A%B8%EC%9D%98-%EC%BA%A0%ED%8D%BC%EC%8A%A4-%EA%B5%BF%EC%A6%88_/28527\n",
      "background-image: url(\"/comm/getImage?srvcId=POST&parentSn=28527&fileTy=POSTTHUMB&fileNo=1&thumbTy=M\");\n",
      "서울의 봄\n",
      "https://korean.visitseoul.net/hallyu/%EC%84%9C%EC%9A%B8%EC%9D%98-%EB%B4%84_/28459\n",
      "background-image: url(\"/comm/getImage?srvcId=POST&parentSn=28459&fileTy=POSTTHUMB&fileNo=1&thumbTy=M\");\n",
      "캠퍼스 청춘들의 뜨거운 열정이 살아 숨 쉬는 곳\n",
      "https://korean.visitseoul.net/hallyu/%EC%BA%A0%ED%8D%BC%EC%8A%A4-%EC%B2%AD%EC%B6%98%EB%93%A4%EC%9D%98-%EB%9C%A8%EA%B1%B0%EC%9A%B4-%EC%97%B4%EC%A0%95%EC%9D%B4-%EC%82%B4%EC%95%84-%EC%88%A8%EC%89%AC%EB%8A%94-%EA%B3%B3_/28458\n",
      "background-image: url(\"/comm/getImage?srvcId=POST&parentSn=28458&fileTy=POSTTHUMB&fileNo=1&thumbTy=M\");\n"
     ]
    }
   ],
   "source": [
    "def crawler_url(url)\n",
    "    options = webdriver.ChromeOptions()\n",
    "    options.add_argument('headless')\n",
    "    options.add_argument('window-size=1920x1080')\n",
    "    options.add_argument(\"disable-gpu\")\n",
    "    # 혹은 options.add_argument(\"--disable-gpu\")\n",
    "\n",
    "    driver = webdriver.chrome.webdriver.WebDriver(executable_path='../chromedriver', chrome_options=options)\n",
    "    url = \"https://korean.visitseoul.net/hallyu/?curPage=10\"\n",
    "    driver.get(url)\n",
    "\n",
    "\n",
    "    try:\n",
    "        article_list = WebDriverWait(driver, 10).until(\n",
    "            EC.presence_of_element_located((By.CLASS_NAME, 'article-list-slide'))\n",
    "        )\n",
    "        articles = article_list.find_elements_by_tag_name(\"li\")\n",
    "        for article in articles:\n",
    "            a_tag = article.find_element_by_tag_name(\"a\")\n",
    "\n",
    "            title = a_tag.get_attribute('title')\n",
    "            href  = a_tag.get_attribute('href')\n",
    "            href = urllib.parse.unquote(href)\n",
    "            thumb = a_tag.find_element_by_class_name('thumb').get_attribute('style')\n",
    "\n",
    "            kpop_url_list[title] = {\n",
    "                'href': href,\n",
    "                'thumb' : 'https://korean.visitseoul.net/' +thumb.replace('background-image: url(\"','').replace('\");',''),\n",
    "            }\n",
    "            print(a_tag.get_attribute('title'))\n",
    "            print(a_tag.get_attribute('href'))\n",
    "            print(a_tag.find_element_by_class_name('thumb').get_attribute('style'))\n",
    "\n",
    "    except Exception as ex: # 에러 종류\n",
    "        print('에러가 발생 했습니다', ex) #\n",
    "        driver.quit()\n",
    "\n",
    "    driver.quit()\n",
    "    return kpop_url_list"
   ]
  },
  {
   "cell_type": "code",
   "execution_count": 170,
   "metadata": {},
   "outputs": [],
   "source": [
    "import os \n",
    "import json \n",
    "\n",
    "kpop_all = kpop_url_list\n",
    "for i in kpop_all:\n",
    "    url = kpop_all[i]['href']\n",
    "    url = urllib.parse.unquote(url)\n",
    "    kpop_all[i]['href'] = url\n",
    "\n",
    "json_data = json.dumps(kpop_url_list)"
   ]
  },
  {
   "cell_type": "code",
   "execution_count": 201,
   "metadata": {
    "scrolled": false
   },
   "outputs": [],
   "source": [
    "with open('./kpop_url_range_1_10.json', 'w', encoding='UTF-8') as outfile:\n",
    "    json.dump(kpop_all, outfile, ensure_ascii=False)"
   ]
  },
  {
   "cell_type": "code",
   "execution_count": 157,
   "metadata": {},
   "outputs": [],
   "source": [
    "with open('./kpop_url_range_1_10.json', 'r') as file:\n",
    "    json_data = json.load(file)"
   ]
  },
  {
   "cell_type": "code",
   "execution_count": 205,
   "metadata": {
    "scrolled": true
   },
   "outputs": [
    {
     "data": {
      "text/plain": [
       "{'당신도 봉준호 마니아라면 봉하이브 투어': {'href': 'https://korean.visitseoul.net/hallyu/봉하이브-투어_/34310',\n",
       "  'thumb': 'https://korean.visitseoul.net//comm/getImage?srvcId=POST&parentSn=34310&fileTy=POSTTHUMB&fileNo=1&thumbTy=M'},\n",
       " '<필이 좋은 여행> 필이 찾은 맛과 이야기 있는 서울': {'href': 'https://korean.visitseoul.net/hallyu/필이-좋은-여행-필이-찾은-맛과-이야기-있는-서울_/34309',\n",
       "  'thumb': 'https://korean.visitseoul.net//comm/getImage?srvcId=POST&parentSn=34309&fileTy=POSTTHUMB&fileNo=1&thumbTy=M'},\n",
       " '꺼지지 않는 열풍! <사랑의 불시착> 속 촬영지': {'href': 'https://korean.visitseoul.net/hallyu/꺼지지-않는-열풍-사랑의-불시착-속-촬영지_/34308',\n",
       "  'thumb': 'https://korean.visitseoul.net//comm/getImage?srvcId=POST&parentSn=34308&fileTy=POSTTHUMB&fileNo=1&thumbTy=M'},\n",
       " '근대역사 골목산책 「우리슈퍼」 코스': {'href': 'https://korean.visitseoul.net/hallyu/근대역사-골목산책-우리슈퍼-코스_/34204',\n",
       "  'thumb': 'https://korean.visitseoul.net//comm/getImage?srvcId=POST&parentSn=34204&fileTy=POSTTHUMB&fileNo=1&thumbTy=M'},\n",
       " '서울라이트 일상 체험 「피자시대 코스」 ': {'href': 'https://korean.visitseoul.net/hallyu/서울라이트-일상-체험-피자시대-코스_/34203',\n",
       "  'thumb': 'https://korean.visitseoul.net//comm/getImage?srvcId=POST&parentSn=34203&fileTy=POSTTHUMB&fileNo=1&thumbTy=M'},\n",
       " '서울 대표 관광지 중심 「자하문터널계단」 코스': {'href': 'https://korean.visitseoul.net/hallyu/서울-대표관광지-중심-자하문터널계단-코스_/34171',\n",
       "  'thumb': 'https://korean.visitseoul.net//comm/getImage?srvcId=POST&parentSn=34171&fileTy=POSTTHUMB&fileNo=1&thumbTy=M'},\n",
       " '오마이‘갓’! K-좀비 드라마 <킹덤> 속으로': {'href': 'https://korean.visitseoul.net/hallyu/오마이‘갓’-K-좀비-드라마-킹덤-속으로_/34130',\n",
       "  'thumb': 'https://korean.visitseoul.net//comm/getImage?srvcId=POST&parentSn=34130&fileTy=POSTTHUMB&fileNo=1&thumbTy=M'},\n",
       " '아름다운 서울의 해돋이 명소': {'href': 'https://korean.visitseoul.net/hallyu/아름다운-서울의-해돋이-명소_/32711',\n",
       "  'thumb': 'https://korean.visitseoul.net//comm/getImage?srvcId=POST&parentSn=32711&fileTy=POSTTHUMB&fileNo=1&thumbTy=M'},\n",
       " '서울의 웰니스 힐링 카페': {'href': 'https://korean.visitseoul.net/hallyu/몸과-마음까지-힐링하는-서울-웰니스-카페-4곳_/32527',\n",
       "  'thumb': 'https://korean.visitseoul.net//comm/getImage?srvcId=POST&parentSn=32527&fileTy=POSTTHUMB&fileNo=1&thumbTy=M'},\n",
       " '북미는 지금 ‘ 제시카 송 앓이 ’ 중 , 영화 <기생충> 촬영지 탐방코스 !': {'href': 'https://korean.visitseoul.net/hallyu/북미는-지금-‘-제시카-송-앓이-’-중--영화-기생충-촬영지-탐방코스_/32526',\n",
       "  'thumb': 'https://korean.visitseoul.net//comm/getImage?srvcId=POST&parentSn=32526&fileTy=POSTTHUMB&fileNo=1&thumbTy=M'},\n",
       " '골라 가고 혜택받는 스마트한 서울여행권-서울관광패스': {'href': 'https://korean.visitseoul.net/hallyu/골라-가고-혜택-받는-스마트한-서울여행권-서울관광패스_/32206',\n",
       "  'thumb': 'https://korean.visitseoul.net//comm/getImage?srvcId=POST&parentSn=32206&fileTy=POSTTHUMB&fileNo=1&thumbTy=M'},\n",
       " '가을 감성 가득한 K뮤지컬 명소4': {'href': 'https://korean.visitseoul.net/hallyu/가을-감성-가득한-K뮤지컬-명소4_/32141',\n",
       "  'thumb': 'https://korean.visitseoul.net//comm/getImage?srvcId=POST&parentSn=32141&fileTy=POSTTHUMB&fileNo=1&thumbTy=M'},\n",
       " '설렘 가득한 드라마 ‘첫사랑은 처음이라서’ 속 서울': {'href': 'https://korean.visitseoul.net/hallyu/설렘-가득한-드라마-‘첫사랑은-처음이라서’-속-서울_/32140',\n",
       "  'thumb': 'https://korean.visitseoul.net//comm/getImage?srvcId=POST&parentSn=32140&fileTy=POSTTHUMB&fileNo=1&thumbTy=M'},\n",
       " '러브 유어 BTS&서울! 아미를 위한 서울 여행': {'href': 'https://korean.visitseoul.net/hallyu/러브-유어-BTS서울-아미를-위한-서울-여행_/32139',\n",
       "  'thumb': 'https://korean.visitseoul.net//comm/getImage?srvcId=POST&parentSn=32139&fileTy=POSTTHUMB&fileNo=1&thumbTy=M'},\n",
       " '개성 가득, 감성 충만 가로수길 K-뷰티 핫플레이스': {'href': 'https://korean.visitseoul.net/hallyu/개성-가득-감성-충만-가로수길-K-뷰티-핫플레이스_/32138',\n",
       "  'thumb': 'https://korean.visitseoul.net//comm/getImage?srvcId=POST&parentSn=32138&fileTy=POSTTHUMB&fileNo=1&thumbTy=M'},\n",
       " '강다니엘을 더 가까이, ‘다니티’ 투어': {'href': 'https://korean.visitseoul.net/hallyu/강다니엘을-더-가까이-다니티-투어_/31622',\n",
       "  'thumb': 'https://korean.visitseoul.net//comm/getImage?srvcId=POST&parentSn=31622&fileTy=POSTTHUMB&fileNo=1&thumbTy=M'},\n",
       " '“호텔 델루나” 속 레트로 서울': {'href': 'https://korean.visitseoul.net/hallyu/호텔-델루나-속-레트로-서울_/31621',\n",
       "  'thumb': 'https://korean.visitseoul.net//comm/getImage?srvcId=POST&parentSn=31621&fileTy=POSTTHUMB&fileNo=1&thumbTy=M'},\n",
       " '세븐틴을 따라가는‘아주 Nice’한 캐럿투어 ': {'href': 'https://korean.visitseoul.net/hallyu/세븐틴을-따라가는‘아주-Nice’한-캐럿투어_/31620',\n",
       "  'thumb': 'https://korean.visitseoul.net//comm/getImage?srvcId=POST&parentSn=31620&fileTy=POSTTHUMB&fileNo=1&thumbTy=M'},\n",
       " '명동, 즐기면서 예뻐지자!': {'href': 'https://korean.visitseoul.net/hallyu/명동-어디까지-가봤니-즐기면서-예뻐지자_/31619',\n",
       "  'thumb': 'https://korean.visitseoul.net//comm/getImage?srvcId=POST&parentSn=31619&fileTy=POSTTHUMB&fileNo=1&thumbTy=M'},\n",
       " '서울에서의 일상탈출: 뷔편': {'href': 'https://korean.visitseoul.net/hallyu/서울에서의-일상탈출-뷔편_/31371',\n",
       "  'thumb': 'https://korean.visitseoul.net//comm/getImage?srvcId=POST&parentSn=31371&fileTy=POSTTHUMB&fileNo=1&thumbTy=M'},\n",
       " '함께하는 즐거운 순간: 제이홉편': {'href': 'https://korean.visitseoul.net/hallyu/함께하는-즐거운-순간-제이홉_/31368',\n",
       "  'thumb': 'https://korean.visitseoul.net//comm/getImage?srvcId=POST&parentSn=31368&fileTy=POSTTHUMB&fileNo=1&thumbTy=M'},\n",
       " '서울에서의 재충전 방법: 슈가편': {'href': 'https://korean.visitseoul.net/hallyu/서울-재충전-방법-슈가편_/31356',\n",
       "  'thumb': 'https://korean.visitseoul.net//comm/getImage?srvcId=POST&parentSn=31356&fileTy=POSTTHUMB&fileNo=1&thumbTy=M'},\n",
       " '서울 현지 이색체험: 지민편': {'href': 'https://korean.visitseoul.net/hallyu/서울-현지-이색체험-지민편_/31355',\n",
       "  'thumb': 'https://korean.visitseoul.net//comm/getImage?srvcId=POST&parentSn=31355&fileTy=POSTTHUMB&fileNo=1&thumbTy=M'},\n",
       " '서울 도심 속 휴가: 진편': {'href': 'https://korean.visitseoul.net/hallyu/서울-도심-속-휴가-진편_/31354',\n",
       "  'thumb': 'https://korean.visitseoul.net//comm/getImage?srvcId=POST&parentSn=31354&fileTy=POSTTHUMB&fileNo=3&thumbTy=M'},\n",
       " '서울 속 전통과 현대의 공존: RM편': {'href': 'https://korean.visitseoul.net/hallyu/서울-전통과-현대의-공존-RM편_/31351',\n",
       "  'thumb': 'https://korean.visitseoul.net//comm/getImage?srvcId=POST&parentSn=31351&fileTy=POSTTHUMB&fileNo=3&thumbTy=M'},\n",
       " '서울의 자연경관: 정국편': {'href': 'https://korean.visitseoul.net/hallyu/서울의-자연경관-정국편_/31345',\n",
       "  'thumb': 'https://korean.visitseoul.net//comm/getImage?srvcId=POST&parentSn=31345&fileTy=POSTTHUMB&fileNo=12&thumbTy=M'},\n",
       " '유노윤호와 열정 가득한 남대문 시장 투어': {'href': 'https://korean.visitseoul.net/hallyu/유노윤호와-열정-가득한-남대문-시장-투어_/30952',\n",
       "  'thumb': 'https://korean.visitseoul.net//comm/getImage?srvcId=POST&parentSn=30952&fileTy=POSTTHUMB&fileNo=1&thumbTy=M'},\n",
       " '바쁜 일상에 지친 나만을 위한 온전한 휴식, 서울 스파 여행': {'href': 'https://korean.visitseoul.net/hallyu/바쁜-일상에-지친-나만을-위한-온전한-휴식-서울-스파-여행_/30951',\n",
       "  'thumb': 'https://korean.visitseoul.net//comm/getImage?srvcId=POST&parentSn=30951&fileTy=POSTTHUMB&fileNo=1&thumbTy=M'},\n",
       " '여름을 부탁해! 서울 빙수 투어': {'href': 'https://korean.visitseoul.net/hallyu/여름을-부탁해-서울-빙수-투어_/30950',\n",
       "  'thumb': 'https://korean.visitseoul.net//comm/getImage?srvcId=POST&parentSn=30950&fileTy=POSTTHUMB&fileNo=1&thumbTy=M'},\n",
       " '드라마 ‘봄밤’ 속 서울과 사랑에 빠지다': {'href': 'https://korean.visitseoul.net/hallyu/드라마-‘봄밤’-속-서울과-사랑에-빠지다_/30949',\n",
       "  'thumb': 'https://korean.visitseoul.net//comm/getImage?srvcId=POST&parentSn=30949&fileTy=POSTTHUMB&fileNo=1&thumbTy=M'},\n",
       " '24시간이 모자라: 서울의 낮과 밤': {'href': 'https://korean.visitseoul.net/hallyu/24시간이-모자라-서울의-낮과-밤_/30937',\n",
       "  'thumb': 'https://korean.visitseoul.net//comm/getImage?srvcId=POST&parentSn=30937&fileTy=POSTTHUMB&fileNo=10&thumbTy=M'},\n",
       " '역사투어: 서울 다크 투어리즘': {'href': 'https://korean.visitseoul.net/hallyu/역사투어-서울-다크-투어리즘_/30888',\n",
       "  'thumb': 'https://korean.visitseoul.net//comm/getImage?srvcId=POST&parentSn=30888&fileTy=POSTTHUMB&fileNo=2&thumbTy=M'},\n",
       " '옛날시장 길: 서울이라서 더 소중해-전편': {'href': 'https://korean.visitseoul.net/hallyu/서울이라서-더-소중해-옛날시장길_/30730',\n",
       "  'thumb': 'https://korean.visitseoul.net//comm/getImage?srvcId=POST&parentSn=30730&fileTy=POSTTHUMB&fileNo=1&thumbTy=M'},\n",
       " '원서동 골목 산책': {'href': 'https://korean.visitseoul.net/hallyu/원서동-골목-산책_/30519',\n",
       "  'thumb': 'https://korean.visitseoul.net//comm/getImage?srvcId=POST&parentSn=30519&fileTy=POSTTHUMB&fileNo=2&thumbTy=M'},\n",
       " '<나 혼자 산다> 성훈과 함께하는 서울 여행': {'href': 'https://korean.visitseoul.net/hallyu/나-혼자-산다-성훈과-함께하는-서울-여행_/30453',\n",
       "  'thumb': 'https://korean.visitseoul.net//comm/getImage?srvcId=POST&parentSn=30453&fileTy=POSTTHUMB&fileNo=1&thumbTy=M'},\n",
       " 'K-Beauty 전성시대, ‘뷰티룸’을 따라가는 한류 인싸 여행': {'href': 'https://korean.visitseoul.net/hallyu/K-Beauty-전성시대-‘뷰티룸’을-따라가는-한류-인싸-여행_/30409',\n",
       "  'thumb': 'https://korean.visitseoul.net//comm/getImage?srvcId=POST&parentSn=30409&fileTy=POSTTHUMB&fileNo=1&thumbTy=M'},\n",
       " '엑소를 더 가까이,  ‘엑소엘 투어’': {'href': 'https://korean.visitseoul.net/hallyu/엑소를-더-가까이--‘엑소엘-투어’_/30404',\n",
       "  'thumb': 'https://korean.visitseoul.net//comm/getImage?srvcId=POST&parentSn=30404&fileTy=POSTTHUMB&fileNo=1&thumbTy=M'},\n",
       " '몬스타엑스의 에너지원! 서울 맛집을 찾아서': {'href': 'https://korean.visitseoul.net/hallyu/몬스타엑스의-에너지원-서울-맛집을-찾아서_/30399',\n",
       "  'thumb': 'https://korean.visitseoul.net//comm/getImage?srvcId=POST&parentSn=30399&fileTy=POSTTHUMB&fileNo=1&thumbTy=M'},\n",
       " '서울의 #할랄 #채식 디저트': {'href': 'https://korean.visitseoul.net/hallyu/서울의-할랄-채식-디저트_/30388',\n",
       "  'thumb': 'https://korean.visitseoul.net//comm/getImage?srvcId=POST&parentSn=30388&fileTy=POSTTHUMB&fileNo=1&thumbTy=M'},\n",
       " '올 여름은 여기에서, 서울한강수영장': {'href': 'https://korean.visitseoul.net/hallyu/올-여름은-여기에서-서울한강수영장_/30350',\n",
       "  'thumb': 'https://korean.visitseoul.net//comm/getImage?srvcId=POST&parentSn=30350&fileTy=POSTTHUMB&fileNo=1&thumbTy=M'},\n",
       " '문화역서울 284 공간투어프로그램': {'href': 'https://korean.visitseoul.net/hallyu/문화역서울-284-공간투어프로그램_/30231',\n",
       "  'thumb': 'https://korean.visitseoul.net//comm/getImage?srvcId=POST&parentSn=30231&fileTy=POSTTHUMB&fileNo=1&thumbTy=M'},\n",
       " '한강역사탐방: 역사해설사를 통해 전해 듣는 한강이야기': {'href': 'https://korean.visitseoul.net/hallyu/한강역사탐방-역사해설사를-통해-전해-듣는-한강이야기_/30140',\n",
       "  'thumb': 'https://korean.visitseoul.net//comm/getImage?srvcId=POST&parentSn=30140&fileTy=POSTTHUMB&fileNo=1&thumbTy=M'},\n",
       " '아띠인력거: YOUR GUIDE, YOUR FRIEND': {'href': 'https://korean.visitseoul.net/hallyu/아띠인력거-YOUR-GUIDE-YOUR-FRIEND_/30090',\n",
       "  'thumb': 'https://korean.visitseoul.net//comm/getImage?srvcId=POST&parentSn=30090&fileTy=POSTTHUMB&fileNo=1&thumbTy=M'},\n",
       " '서울의 맛: 여름을 부탁하고 싶은 음식 ': {'href': 'https://korean.visitseoul.net/hallyu/서울의-맛-여름을-부탁하고-싶은-음식_/29936',\n",
       "  'thumb': 'https://korean.visitseoul.net//comm/getImage?srvcId=POST&parentSn=29936&fileTy=POSTTHUMB&fileNo=1&thumbTy=M'},\n",
       " '브라보 셀프 라이프': {'href': 'https://korean.visitseoul.net/hallyu/브라보-셀프-라이프_/29883',\n",
       "  'thumb': 'https://korean.visitseoul.net//comm/getImage?srvcId=POST&parentSn=29883&fileTy=POSTTHUMB&fileNo=5&thumbTy=M'},\n",
       " '드라마 <그녀의 사생활> 속 두근두근 서울': {'href': 'https://korean.visitseoul.net/hallyu/드라마-그녀의-사생활-속-두근두근-서울_/29880',\n",
       "  'thumb': 'https://korean.visitseoul.net//comm/getImage?srvcId=POST&parentSn=29880&fileTy=POSTTHUMB&fileNo=1&thumbTy=M'},\n",
       " '<팔로우미11> 속 오 마이 서울 ': {'href': 'https://korean.visitseoul.net/hallyu/팔로우미11-속-오-마이-서울_/29879',\n",
       "  'thumb': 'https://korean.visitseoul.net//comm/getImage?srvcId=POST&parentSn=29879&fileTy=POSTTHUMB&fileNo=1&thumbTy=M'},\n",
       " '떡볶이 마니아 규현이 돌아왔다! ': {'href': 'https://korean.visitseoul.net/hallyu/떡볶이-마니아-규현이-돌아왔다_/29877',\n",
       "  'thumb': 'https://korean.visitseoul.net//comm/getImage?srvcId=POST&parentSn=29877&fileTy=POSTTHUMB&fileNo=1&thumbTy=M'},\n",
       " '‘풍경-바람이 잇다’ 속 치유의 공간, 서울': {'href': 'https://korean.visitseoul.net/hallyu/풍경-바람이-잇다-속-치유의-공간-서울_/29876',\n",
       "  'thumb': 'https://korean.visitseoul.net//comm/getImage?srvcId=POST&parentSn=29876&fileTy=POSTTHUMB&fileNo=1&thumbTy=M'},\n",
       " '산(山): 서울의 숨은 주인공': {'href': 'https://korean.visitseoul.net/hallyu/서울의-숨은-주인공_/29801',\n",
       "  'thumb': 'https://korean.visitseoul.net//comm/getImage?srvcId=POST&parentSn=29801&fileTy=POSTTHUMB&fileNo=1&thumbTy=M'},\n",
       " '골목골목 시간이 멈춘 곳, 소박했던 그 시절로 떠나는 코스': {'href': 'https://korean.visitseoul.net/hallyu/응답하라-시간여행_/29765',\n",
       "  'thumb': 'https://korean.visitseoul.net//comm/getImage?srvcId=POST&parentSn=29765&fileTy=POSTTHUMB&fileNo=2&thumbTy=M'},\n",
       " '무더위 날려줄 서울 속 액티비티 명소 ': {'href': 'https://korean.visitseoul.net/hallyu/무더위-날려줄-서울-속-액티비티-명소_/29746',\n",
       "  'thumb': 'https://korean.visitseoul.net//comm/getImage?srvcId=POST&parentSn=29746&fileTy=POSTTHUMB&fileNo=4&thumbTy=M'},\n",
       " \"'진심이 닿다' 속 핑크빛 서울\": {'href': 'https://korean.visitseoul.net/hallyu/진심이-닿다-속-핑크빛-서울_/29567',\n",
       "  'thumb': 'https://korean.visitseoul.net//comm/getImage?srvcId=POST&parentSn=29567&fileTy=POSTTHUMB&fileNo=1&thumbTy=M'},\n",
       " 'NCT127을 따라가는 시즈니 투어': {'href': 'https://korean.visitseoul.net/hallyu/NCT127을-따라가는-시즈니-투어_/29563',\n",
       "  'thumb': 'https://korean.visitseoul.net//comm/getImage?srvcId=POST&parentSn=29563&fileTy=POSTTHUMB&fileNo=1&thumbTy=M'},\n",
       " '아이즈원을 따라 떠나는 서울 여행': {'href': 'https://korean.visitseoul.net/hallyu/아이즈원을-따라-떠나는-서울-여행_/29560',\n",
       "  'thumb': 'https://korean.visitseoul.net//comm/getImage?srvcId=POST&parentSn=29560&fileTy=POSTTHUMB&fileNo=1&thumbTy=M'},\n",
       " \"뉴이스트를 향한 사랑을 담은 '러브 투어' 2탄\": {'href': 'https://korean.visitseoul.net/hallyu/뉴이스트를-향한-사랑을-담은-러브-투어-2탄_/29555',\n",
       "  'thumb': 'https://korean.visitseoul.net//comm/getImage?srvcId=POST&parentSn=29555&fileTy=POSTTHUMB&fileNo=1&thumbTy=M'},\n",
       " '나만의 서울 사진 명당: I SEOUL U': {'href': 'https://korean.visitseoul.net/hallyu/나만의-서울-사진-명당-I-SEOUL-U_/29486',\n",
       "  'thumb': 'https://korean.visitseoul.net//comm/getImage?srvcId=POST&parentSn=29486&fileTy=POSTTHUMB&fileNo=2&thumbTy=M'},\n",
       " '서울의 밤: 잠들지 않는 도시': {'href': 'https://korean.visitseoul.net/hallyu/서울의-밤잠들지-않는-도시_/29475',\n",
       "  'thumb': 'https://korean.visitseoul.net//comm/getImage?srvcId=POST&parentSn=29475&fileTy=POSTTHUMB&fileNo=2&thumbTy=M'},\n",
       " '이야기를 따라 걷는 홍대&망원 마을여행': {'href': 'https://korean.visitseoul.net/hallyu/이야기를-따라-걷는-홍대망원-마을여행_/29424',\n",
       "  'thumb': 'https://korean.visitseoul.net//comm/getImage?srvcId=POST&parentSn=29424&fileTy=POSTTHUMB&fileNo=1&thumbTy=M'},\n",
       " '등잔 밑이 어둡다, 우리 동네 보석 같은 공원': {'href': 'https://korean.visitseoul.net/hallyu/등잔-밑이-어둡다-우리-동네-보석-같은-공원_/29422',\n",
       "  'thumb': 'https://korean.visitseoul.net//comm/getImage?srvcId=POST&parentSn=29422&fileTy=POSTTHUMB&fileNo=3&thumbTy=M'},\n",
       " '기억의 보관소, 돈의문박물관마을': {'href': 'https://korean.visitseoul.net/hallyu/기억의-보관소-돈의문박물관마을_/29410',\n",
       "  'thumb': 'https://korean.visitseoul.net//comm/getImage?srvcId=POST&parentSn=29410&fileTy=POSTTHUMB&fileNo=4&thumbTy=M'},\n",
       " '‘디스커버 서울패스 방탄소년단(BTS) 특별판’과 함께 떠나는 서울 여행': {'href': 'https://korean.visitseoul.net/hallyu/디스커버-서울패스-방탄소년단BTS-특별판과-함께-떠나는-서울-여행_/29364',\n",
       "  'thumb': 'https://korean.visitseoul.net//comm/getImage?srvcId=POST&parentSn=29364&fileTy=POSTTHUMB&fileNo=3&thumbTy=M'},\n",
       " 'TXT의 ‘TALK X TODAY’ in 서울': {'href': 'https://korean.visitseoul.net/hallyu/TXT의-‘TALK-X-TODAY’-in-서울_/29363',\n",
       "  'thumb': 'https://korean.visitseoul.net//comm/getImage?srvcId=POST&parentSn=29363&fileTy=POSTTHUMB&fileNo=1&thumbTy=M'},\n",
       " \"사랑하고 싶다면 이들처럼 드라마 '남자친구' 속 서울\": {'href': 'https://korean.visitseoul.net/hallyu/사랑하고-싶다면-이들처럼-드라마-남자친구-속-서울_/29362',\n",
       "  'thumb': 'https://korean.visitseoul.net//comm/getImage?srvcId=POST&parentSn=29362&fileTy=POSTTHUMB&fileNo=1&thumbTy=M'},\n",
       " '‘로맨스는 별책부록’ 속 로맨스가 피어나는 서울 맛집들': {'href': 'https://korean.visitseoul.net/hallyu/로맨스는-별책부록-속-로맨스가-피어나는-서울-맛집들_/29360',\n",
       "  'thumb': 'https://korean.visitseoul.net//comm/getImage?srvcId=POST&parentSn=29360&fileTy=POSTTHUMB&fileNo=1&thumbTy=M'},\n",
       " '기다리는 동안 떠나는 서울 틈새 여행': {'href': 'https://korean.visitseoul.net/hallyu/기다리는-동안-떠나는-서울-틈새-여행_/29243',\n",
       "  'thumb': 'https://korean.visitseoul.net//comm/getImage?srvcId=POST&parentSn=29243&fileTy=POSTTHUMB&fileNo=1&thumbTy=M'},\n",
       " \"'남들과는 다르게' 즐기는 캠퍼스 꽃놀이 명소 \": {'href': 'https://korean.visitseoul.net/hallyu/남들과는-다르게-즐기는-캠퍼스-꽃놀이-명소_/29241',\n",
       "  'thumb': 'https://korean.visitseoul.net//comm/getImage?srvcId=POST&parentSn=29241&fileTy=POSTTHUMB&fileNo=1&thumbTy=M'},\n",
       " '오감 만족 서울 축제': {'href': 'https://korean.visitseoul.net/hallyu/오감만족-서울-축제_/29235',\n",
       "  'thumb': 'https://korean.visitseoul.net//comm/getImage?srvcId=POST&parentSn=29235&fileTy=POSTTHUMB&fileNo=2&thumbTy=M'},\n",
       " '을지로 디스트릭트C': {'href': 'https://korean.visitseoul.net/hallyu/을지로-디스트릭트-C_/29185',\n",
       "  'thumb': 'https://korean.visitseoul.net//comm/getImage?srvcId=POST&parentSn=29185&fileTy=POSTTHUMB&fileNo=1&thumbTy=M'},\n",
       " '옛가게길: 한국과 세계가 함께 숨 쉬는 곳 - 후편': {'href': 'https://korean.visitseoul.net/hallyu/옛가게길-한국과-세계가-함께-숨-쉬는-곳---후편_/29034',\n",
       "  'thumb': 'https://korean.visitseoul.net//comm/getImage?srvcId=POST&parentSn=29034&fileTy=POSTTHUMB&fileNo=1&thumbTy=M'},\n",
       " '서울 한 바퀴': {'href': 'https://korean.visitseoul.net/hallyu/서울-한-바퀴_/28818',\n",
       "  'thumb': 'https://korean.visitseoul.net//comm/getImage?srvcId=POST&parentSn=28818&fileTy=POSTTHUMB&fileNo=4&thumbTy=M'},\n",
       " '2019 창경궁 야간 상시관람': {'href': 'https://korean.visitseoul.net/hallyu/2019-창경궁-야간-상시관람_/28796',\n",
       "  'thumb': 'https://korean.visitseoul.net//comm/getImage?srvcId=POST&parentSn=28796&fileTy=POSTTHUMB&fileNo=1&thumbTy=M'},\n",
       " '반려견과 함께하는 서울 명소': {'href': 'https://korean.visitseoul.net/hallyu/함께-사는-도시-서울_/28765',\n",
       "  'thumb': 'https://korean.visitseoul.net//comm/getImage?srvcId=POST&parentSn=28765&fileTy=POSTTHUMB&fileNo=3&thumbTy=M'},\n",
       " '서울의 무인서비스': {'href': 'https://korean.visitseoul.net/hallyu/무인-in-서울_/28757',\n",
       "  'thumb': 'https://korean.visitseoul.net//comm/getImage?srvcId=POST&parentSn=28757&fileTy=POSTTHUMB&fileNo=2&thumbTy=M'},\n",
       " '옛가게길: 한국과 세계가 함께 숨 쉬는 곳': {'href': 'https://korean.visitseoul.net/hallyu/옛가게길-한국과-세계가-함께-숨-쉬는-곳_/28661',\n",
       "  'thumb': 'https://korean.visitseoul.net//comm/getImage?srvcId=POST&parentSn=28661&fileTy=POSTTHUMB&fileNo=3&thumbTy=M'},\n",
       " '알아두면 쓸모 있는 서울 이색박물관': {'href': 'https://korean.visitseoul.net/hallyu/알아두면-쓸모-있는-서울-이색박물관_/28607',\n",
       "  'thumb': 'https://korean.visitseoul.net//comm/getImage?srvcId=POST&parentSn=28607&fileTy=POSTTHUMB&fileNo=3&thumbTy=M'},\n",
       " '마음이 내키는 대로 즐기는 서울의 희로애락 길': {'href': 'https://korean.visitseoul.net/hallyu/마음이-내키는-대로-즐기는-서울의-희로애락-길_/28528',\n",
       "  'thumb': 'https://korean.visitseoul.net//comm/getImage?srvcId=POST&parentSn=28528&fileTy=POSTTHUMB&fileNo=1&thumbTy=M'},\n",
       " '서울의 캠퍼스 굿즈': {'href': 'https://korean.visitseoul.net/hallyu/서울의-캠퍼스-굿즈_/28527',\n",
       "  'thumb': 'https://korean.visitseoul.net//comm/getImage?srvcId=POST&parentSn=28527&fileTy=POSTTHUMB&fileNo=1&thumbTy=M'},\n",
       " '서울의 봄': {'href': 'https://korean.visitseoul.net/hallyu/서울의-봄_/28459',\n",
       "  'thumb': 'https://korean.visitseoul.net//comm/getImage?srvcId=POST&parentSn=28459&fileTy=POSTTHUMB&fileNo=1&thumbTy=M'},\n",
       " '캠퍼스 청춘들의 뜨거운 열정이 살아 숨 쉬는 곳': {'href': 'https://korean.visitseoul.net/hallyu/캠퍼스-청춘들의-뜨거운-열정이-살아-숨쉬는-곳_/28458',\n",
       "  'thumb': 'https://korean.visitseoul.net//comm/getImage?srvcId=POST&parentSn=28458&fileTy=POSTTHUMB&fileNo=1&thumbTy=M'}}"
      ]
     },
     "execution_count": 205,
     "metadata": {},
     "output_type": "execute_result"
    }
   ],
   "source": [
    "for title in kpop_url_list:\n",
    "    kpop_url_list[title] = "
   ]
  },
  {
   "cell_type": "code",
   "execution_count": 202,
   "metadata": {
    "scrolled": true
   },
   "outputs": [],
   "source": [
    "def crawler_url(url)\n",
    "    options = webdriver.ChromeOptions()\n",
    "    options.add_argument('headless')\n",
    "    options.add_argument('window-size=1920x1080')\n",
    "    options.add_argument(\"disable-gpu\")\n",
    "    # 혹은 options.add_argument(\"--disable-gpu\")\n",
    "\n",
    "    driver = webdriver.chrome.webdriver.WebDriver(executable_path='../chromedriver', chrome_options=options)\n",
    "    driver.get(url)\n",
    "\n",
    "\n",
    "    try:\n",
    "        article_list = WebDriverWait(driver, 10).until(\n",
    "            EC.presence_of_element_located((By.CLASS_NAME, 'article-list-slide'))\n",
    "        )\n",
    "        articles = article_list.find_elements_by_tag_name(\"li\")\n",
    "        for article in articles:\n",
    "            a_tag = article.find_element_by_tag_name(\"a\")\n",
    "\n",
    "            title = a_tag.get_attribute('title')\n",
    "            href  = a_tag.get_attribute('href')\n",
    "            href = urllib.parse.unquote(href)\n",
    "            thumb = a_tag.find_element_by_class_name('thumb').get_attribute('style')\n",
    "\n",
    "            kpop_url_list[title] = {\n",
    "                'href': href,\n",
    "                'thumb' : 'https://korean.visitseoul.net/' +thumb.replace('background-image: url(\"','').replace('\");',''),\n",
    "            }\n",
    "            print(a_tag.get_attribute('title'))\n",
    "            print(a_tag.get_attribute('href'))\n",
    "            print(a_tag.find_element_by_class_name('thumb').get_attribute('style'))\n",
    "\n",
    "    except Exception as ex: # 에러 종류\n",
    "        print('에러가 발생 했습니다', ex) #\n",
    "        driver.quit()\n",
    "\n",
    "    driver.quit()\n",
    "    return kpop_url_list"
   ]
  },
  {
   "cell_type": "code",
   "execution_count": null,
   "metadata": {},
   "outputs": [],
   "source": []
  },
  {
   "cell_type": "code",
   "execution_count": null,
   "metadata": {},
   "outputs": [],
   "source": []
  }
 ],
 "metadata": {
  "kernelspec": {
   "display_name": "Django Shell-Plus",
   "language": "python",
   "name": "django_extensions"
  },
  "language_info": {
   "codemirror_mode": {
    "name": "ipython",
    "version": 3
   },
   "file_extension": ".py",
   "mimetype": "text/x-python",
   "name": "python",
   "nbconvert_exporter": "python",
   "pygments_lexer": "ipython3",
   "version": "3.7.4"
  }
 },
 "nbformat": 4,
 "nbformat_minor": 4
}
